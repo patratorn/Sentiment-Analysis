{
 "cells": [
  {
   "cell_type": "markdown",
   "metadata": {},
   "source": [
    "# __Part II: Data Preprocessing__"
   ]
  },
  {
   "cell_type": "markdown",
   "metadata": {},
   "source": [
    "## __Import Libraries and Dataset__"
   ]
  },
  {
   "cell_type": "markdown",
   "metadata": {},
   "source": [
    "## 1 Import Libraries"
   ]
  },
  {
   "cell_type": "code",
   "execution_count": 1,
   "metadata": {},
   "outputs": [
    {
     "name": "stderr",
     "output_type": "stream",
     "text": [
      "Using TensorFlow backend.\n"
     ]
    }
   ],
   "source": [
    "import numpy as np\n",
    "import pandas as pd\n",
    "from collections import Counter\n",
    "import html\n",
    "import re\n",
    "from nltk.sentiment.util import mark_negation\n",
    "from nltk.corpus import stopwords\n",
    "from stop_words import get_stop_words\n",
    "import string\n",
    "import contractions\n",
    "from keras.preprocessing.text import Tokenizer\n",
    "from keras.preprocessing.sequence import pad_sequences\n",
    "import utils"
   ]
  },
  {
   "cell_type": "code",
   "execution_count": 2,
   "metadata": {},
   "outputs": [],
   "source": [
    "# Set dataframe display\n",
    "pd.set_option('display.max_columns', None)\n",
    "pd.set_option('display.expand_frame_repr', False)\n",
    "pd.set_option('display.max_colwidth', -1)"
   ]
  },
  {
   "cell_type": "code",
   "execution_count": 3,
   "metadata": {},
   "outputs": [],
   "source": [
    "# Define path of data\n",
    "data_folder = \"C:\\\\Users\\\\DoZoYo\\\\OneDrive - Mahidol University\\\\611 Advanced ML\\\\Sentiment Analysis\\\\data\\\\\""
   ]
  },
  {
   "cell_type": "markdown",
   "metadata": {},
   "source": [
    "## 2 Import dataset to dataframe\n",
    "\n",
    "> For score = 1 or 2 means Negative(-1) <br>\n",
    "> For score = 3 means Neutral(0) <br>\n",
    "> For score = 4 or 5 means Positive(1)"
   ]
  },
  {
   "cell_type": "code",
   "execution_count": 4,
   "metadata": {},
   "outputs": [],
   "source": [
    "# Import csv file to dataframe and label classes\n",
    "def import_data(data_folder, file_name):\n",
    "    df = pd.read_csv(data_folder + file_name + \".csv\", \n",
    "                     delimiter='|', \n",
    "                     encoding='utf-8', \n",
    "                     engine='python')\n",
    "    y = {1:-1, 2:-1, 3:0, 4:1, 5:1}\n",
    "    df['class'] = df['score'].map(y)\n",
    "    df['hospital'] = file_name\n",
    "    return df\n",
    "\n",
    "file_names = ['corpus_rama','corpus_siriraj','corpus_chula']\n",
    "\n",
    "df_tmp = {}\n",
    "for file_name in file_names:\n",
    "    df_tmp[file_name]= import_data(data_folder, file_name)"
   ]
  },
  {
   "cell_type": "code",
   "execution_count": 5,
   "metadata": {},
   "outputs": [
    {
     "data": {
      "text/html": [
       "<div>\n",
       "<style scoped>\n",
       "    .dataframe tbody tr th:only-of-type {\n",
       "        vertical-align: middle;\n",
       "    }\n",
       "\n",
       "    .dataframe tbody tr th {\n",
       "        vertical-align: top;\n",
       "    }\n",
       "\n",
       "    .dataframe thead th {\n",
       "        text-align: right;\n",
       "    }\n",
       "</style>\n",
       "<table border=\"1\" class=\"dataframe\">\n",
       "  <thead>\n",
       "    <tr style=\"text-align: right;\">\n",
       "      <th></th>\n",
       "      <th>comment_th</th>\n",
       "      <th>comment_eng</th>\n",
       "      <th>score</th>\n",
       "      <th>class</th>\n",
       "      <th>hospital</th>\n",
       "    </tr>\n",
       "  </thead>\n",
       "  <tbody>\n",
       "    <tr>\n",
       "      <th>0</th>\n",
       "      <td>เคยได้ไปลองใช้บริการคลีนิคนอกเวลาของรามาเมื่อต้นปีที่แล้ว ได้เข้ารักษาเลเซอร์บนในหน้า พยสบสลกับคุณหมอใจดีมากๆ เป็นกันเอง ดูแลอย่างทั่วถึง รอคิวไม่นานเลย แต่ต้องโทรไปจองล่วงหน้าก่อนน่ะค่ะ การรักศึกษาของคุณหมอมไ่เจ็บเลยค่ะ ไม่ถึง5นาทีการรักษา ผลลัพที่ออกมารอยใบบนหน้าหายหมดเลยค่ะ ค่ารักรักษาพยนบาลไม่แพงด้วย</td>\n",
       "      <td>Used to try Ramadan part-time clinic earlier this year Got onto the top laser treatment in the face The doctor is very kind and friendly. Care thoroughly. Waiting for a long time But have to call to reserve in advance The love of the doctor&amp;#39;s education hurts me. Less than 5 minutes treatment The result came out, the leaves on the face disappeared. Love fee is not expensive as well.</td>\n",
       "      <td>5</td>\n",
       "      <td>1</td>\n",
       "      <td>corpus_rama</td>\n",
       "    </tr>\n",
       "    <tr>\n",
       "      <th>1</th>\n",
       "      <td>ผมเคยไปทำเลสิกที่นี้   ดีมากครับตอนนี้ผ่ามาจะ2ปีแล้วยังไม่มีผลค้างเคียงอะไรและราคาก็ถูกดีด้วย   ตอนผ่าอาจจะดูน่ากลัวไปซะหน่อย   แต่พอถึงเวลาผ่าจริงๆแล้วไม่รู้สึกเจ็บเลยครับ   เพราะมีการหยอดยาชาก่อนผ่า</td>\n",
       "      <td>I used to go to LASIK here. Very good. Now, it has been 2 years since it has no effect. And the price is also good. The cut may look scary. But when it was really time to do it, it didn&amp;#39;t hurt. Because there was a drop of anesthetic before dissection</td>\n",
       "      <td>4</td>\n",
       "      <td>1</td>\n",
       "      <td>corpus_rama</td>\n",
       "    </tr>\n",
       "    <tr>\n",
       "      <th>2</th>\n",
       "      <td>รักษามาหลายปีแล้วตั้งแต่อายุ14 ตอนนี้จะจบปริญญาตรีแล้ว ตั้งแต่นอนแอดมิดที่ รพ จนหายดีออกมาใช้ชีวิตได้เป็นปกติ โดยเฉพาะคลินิกพรีเมี่ยม ไม่ต้องรอนาน มีความสะดวกรวดเร็วทุกขั้นตอนตั้งแต่จ่ายเงินไปถึงจ่ายยา ค่ารักษาไม่ได้แพงเกินไปเมื่อเทียบเท่ากับเอกชนหลายๆที่ บริการดีมากๆ คุณหมอดูแลเอาใจใส่ดี อยากให้ทุกคนมารักษาที่นี่</td>\n",
       "      <td>Maintained for many years since the age of 14 Will now have a bachelor&amp;#39;s degree From sleeping in the midst of the arthropod until he recovered, he could live a normal life. In particular, premium clinics do not have to wait for a long time. There are convenient, fast, every step from paying to dispensing. The treatment fee is not too expensive when compared to many private services that are very good. Want everyone to come here</td>\n",
       "      <td>5</td>\n",
       "      <td>1</td>\n",
       "      <td>corpus_rama</td>\n",
       "    </tr>\n",
       "    <tr>\n",
       "      <th>3</th>\n",
       "      <td>ที่ตึกพระเทพชั้น 2 สถานที่เครื่องมือดูทันสมัย แต่ที่ห้องวัดความดัน มีคนที่วัด(คิดว่าไม่ใช่พยาบาลเพราะใส่ชุดสีม่วง) ชอบดุคนที่มาวัด พูดเสียงแข็งใส่คนที่มาวัดความดัน ทั้งๆที่พยาบาลอีกคนที่ใส่ชุดพยาบาลพูดเพราะ อยากให้ปรับปรุง  มาหาหมอที่แผนกศัลยกรรม อาจารย์หมอตรวตแล้วบอกต้องผ่าตัด บอกแค่ว่าต้องผ่าตัดถึงจะหายตอนนั้นช็อคเรื่องผ่าตัดอยู่เลยไม่ได้ถามอะไรเลย แล้วหมอกก็ไปเลยไม่ได้บอกว่าจริงๆเป็นอะไร ระยะไหน (ริดสีดวง) แล้วก็นัดวันผ่า พยาบาลที่นัดคิวก็ไม่สนเวลาเราทวนสิ่งที่บอกมาว่าถูกต้องไหม บอกแค่ว่าตามนั้นแหละ สรุปแล้วเหมือนจะดีแต่รอดูช่วงผ่าตัดก่อน</td>\n",
       "      <td>At the 2nd floor of Phra Thep building, the place looks modern. But at the pressure measuring room There are people at the temple (thinking that it&amp;#39;s not a nurse because wearing a purple dress) likes to scold people who come to the temple. Speak stiffly to people who come to measure pressure. In spite of the other nurses who put on a nursing gown, said because Want to improve Come to the doctor at the surgery department Dr. Tawut, then told to have surgery. Just saying that he had to surgery to be healed at that time, he was shocked about the surgery. And the fog went, not really telling what was the distance (Roi-Laem) and then meeting The nurse at Nuek Kyu doesn&amp;#39;t care when we repeat what he says is correct. Just saying that In conclusion, it seems to be good, but waiting to see the surgery before</td>\n",
       "      <td>3</td>\n",
       "      <td>0</td>\n",
       "      <td>corpus_rama</td>\n",
       "    </tr>\n",
       "    <tr>\n",
       "      <th>4</th>\n",
       "      <td>Its a public hospital so service is bad (nurses are completely unfriendly and doctors have god complex plus horrifying bed side manner) but they will keep you alive (nothing to do with quality of life) with decent drug collection. Young doctors are generally very friendly but they are busy all the time due to the amount of patients (like canned tuna) so don't expect them to spend too much time diagnosing you. You have to come early in the morning to ensure you're in queue and the wait 1-2 (bad days) hours behind schedule to get to see the doctor for &lt; 15 min or less (all together door to door 8-9hrs).  Additionally you can call all the 8 numbers on the websites from normal clinic to Premium and wait 15 minutes on each number just for them to hang up on you or divert you elsewhere then hang up on you..... Worst are the guys doing the schedule because they are very consistent in demonstrating the inability to manage schedules (or not) because you will \"always\" have to wait 1-2 hours \"after\" your appointment schedule to see the doctor but they also cant tell you that so you cant go anywhere and have to hang around the front door.  In the better days you will get to sit inside the doctor's room to wait because the doctor is no where to be found and nobody will know when he/she will come back. If you ask the nurse they will give you the \"i dont know and I couldnt care less\" look and turn away in annoyance.  But yes, they have great ability (the doctors definitely know what they are doing) to use ur tax fund to keep you alive, two stars for that!! Updated review for ER: The best ER u can probably find in Bangkok as they are 24hrs fully staffed with specialty doctors (not just general doctors like other hospitals during off business hours). They are jammed packed but they are fully equipped and by that I mean they have CT scanner in the ER room - this is not something we find everywhere. Doctors know what they are doing and fully equipped with the tools to keep u alive. Even better update: Just decided to go for full blown annual health check at Rama (Feb 2016) and here are the pros and cons: Cons:As a foreigner who pays tax in Thailand ur sort of half screwed. They are not equipped to handle foreign language so if u cant google medical terms properly u might go home thinking everything is perfect when its not...A less life threatening case is that if u pay tax to Thailand ur entitled to Thai citizen price 30% less or so which is surprisingly logical BUT not without flaws...u have to bring the \"physical\" \"original\" tax receipt from revenue dept to show then which u DONT get if u file electronically....so....who does NOT file electronically? I dont know one....maybe my parents but they're 75.... Pros:Omg its a very pleasant surprise that this clinic operates with the speed, manner, and professionalism that you'd expect in that of top 5 high end private hospital. The ambiance, the friendliness, politeness (which usually does not happen in public hospital), and the facility is great. I am very impressed with the speed at which they operate so thats 8.30-12:00 easy. Just like u would get at private hospital. 4th floor Prathep bldg zone Q - they did an exceptional job of scanning our x ray and ultrasound result 2-3 times just to make sure its accurate and they call u of the pending result (in case there is a need for special radiologist to check the films) in less than 4 hours after doctor visit. Overall - hell yeah I will do my Health check here going forward for 1/3 the price i would pay otherwise...:</td>\n",
       "      <td>Its a public hospital so service is bad (nurses are completely unfriendly and doctors have god complex plus horrifying bed side manner) but they will keep you alive (nothing to do with quality of life) with decent drug collection. Young doctors are generally very friendly but they are busy all the time due to the amount of patients (like canned tuna) so don't expect them to spend too much time diagnosing you. You have to come early in the morning to ensure you're in queue and the wait 1-2 (bad days) hours behind schedule to get to see the doctor for &lt; 15 min or less (all together door to door 8-9hrs).  Additionally you can call all the 8 numbers on the websites from normal clinic to Premium and wait 15 minutes on each number just for them to hang up on you or divert you elsewhere then hang up on you..... Worst are the guys doing the schedule because they are very consistent in demonstrating the inability to manage schedules (or not) because you will \"always\" have to wait 1-2 hours \"after\" your appointment schedule to see the doctor but they also cant tell you that so you cant go anywhere and have to hang around the front door.  In the better days you will get to sit inside the doctor's room to wait because the doctor is no where to be found and nobody will know when he/she will come back. If you ask the nurse they will give you the \"i dont know and I couldnt care less\" look and turn away in annoyance.  But yes, they have great ability (the doctors definitely know what they are doing) to use ur tax fund to keep you alive, two stars for that!! Updated review for ER: The best ER u can probably find in Bangkok as they are 24hrs fully staffed with specialty doctors (not just general doctors like other hospitals during off business hours). They are jammed packed but they are fully equipped and by that I mean they have CT scanner in the ER room - this is not something we find everywhere. Doctors know what they are doing and fully equipped with the tools to keep u alive. Even better update: Just decided to go for full blown annual health check at Rama (Feb 2016) and here are the pros and cons: Cons:As a foreigner who pays tax in Thailand ur sort of half screwed. They are not equipped to handle foreign language so if u cant google medical terms properly u might go home thinking everything is perfect when its not...A less life threatening case is that if u pay tax to Thailand ur entitled to Thai citizen price 30% less or so which is surprisingly logical BUT not without flaws...u have to bring the \"physical\" \"original\" tax receipt from revenue dept to show then which u DONT get if u file electronically....so....who does NOT file electronically? I dont know one....maybe my parents but they're 75.... Pros:Omg its a very pleasant surprise that this clinic operates with the speed, manner, and professionalism that you'd expect in that of top 5 high end private hospital. The ambiance, the friendliness, politeness (which usually does not happen in public hospital), and the facility is great. I am very impressed with the speed at which they operate so thats 8.30-12:00 easy. Just like u would get at private hospital. 4th floor Prathep bldg zone Q - they did an exceptional job of scanning our x ray and ultrasound result 2-3 times just to make sure its accurate and they call u of the pending result (in case there is a need for special radiologist to check the films) in less than 4 hours after doctor visit. Overall - hell yeah I will do my Health check here going forward for 1/3 the price i would pay otherwise...:</td>\n",
       "      <td>4</td>\n",
       "      <td>1</td>\n",
       "      <td>corpus_rama</td>\n",
       "    </tr>\n",
       "  </tbody>\n",
       "</table>\n",
       "</div>"
      ],
      "text/plain": [
       "                                                                                                                                                                                                                                                                                                                                                                                                                                                                                                                                                                                                                                                                                                                                                                                                                                                                                                                                                                                                                                                                                                                                                                                                                                                                                                                                                                                                                                                                                                                                                                                                                                                                                                                                                                                                                                                                                                                                                                                                                                                                                                                                                                                                                                                                                                                                                                                                                                                                                                                                                                                                                                                                                                                                                                                                                                                                                                                                                                                                                                                                                                                                                                                                                                                                                                                                                                                                                                                                                                                                                                                                                                                                                             comment_th                                                                                                                                                                                                                                                                                                                                                                                                                                                                                                                                                                                                                                                                                                                                                                                                                                                                                                                                                                                                                                                                                                                                                                                                                                                                                                                                                                                                                                                                                                                                                                                                                                                                                                                                                                                                                                                                                                                                                                                                                                                                                                                                                                                                                                                                                                                                                                                                                                                                                                                                                                                                                                                                                                                                                                                                                                                                                                                                                                                                                                                                                                                                                                                                                                                                                                                                                                                                                                                                                                                                                                                                                                                                                           comment_eng  score  class     hospital\n",
       "0  เคยได้ไปลองใช้บริการคลีนิคนอกเวลาของรามาเมื่อต้นปีที่แล้ว ได้เข้ารักษาเลเซอร์บนในหน้า พยสบสลกับคุณหมอใจดีมากๆ เป็นกันเอง ดูแลอย่างทั่วถึง รอคิวไม่นานเลย แต่ต้องโทรไปจองล่วงหน้าก่อนน่ะค่ะ การรักศึกษาของคุณหมอมไ่เจ็บเลยค่ะ ไม่ถึง5นาทีการรักษา ผลลัพที่ออกมารอยใบบนหน้าหายหมดเลยค่ะ ค่ารักรักษาพยนบาลไม่แพงด้วย                                                                                                                                                                                                                                                                                                                                                                                                                                                                                                                                                                                                                                                                                                                                                                                                                                                                                                                                                                                                                                                                                                                                                                                                                                                                                                                                                                                                                                                                                                                                                                                                                                                                                                                                                                                                                                                                                                                                                                                                                                                                                                                                                                                                                                                                                                                                                                                                                                                                                                                                                                                                                                                                                                                                                                                                                                                                                                                                                                                                                                                                                                                                                                                                                                                                                                                                                                                     Used to try Ramadan part-time clinic earlier this year Got onto the top laser treatment in the face The doctor is very kind and friendly. Care thoroughly. Waiting for a long time But have to call to reserve in advance The love of the doctor&#39;s education hurts me. Less than 5 minutes treatment The result came out, the leaves on the face disappeared. Love fee is not expensive as well.                                                                                                                                                                                                                                                                                                                                                                                                                                                                                                                                                                                                                                                                                                                                                                                                                                                                                                                                                                                                                                                                                                                                                                                                                                                                                                                                                                                                                                                                                                                                                                                                                                                                                                                                                                                                                                                                                                                                                                                                                                                                                                                                                                                                                                                                                                                                                                                                                                                                                                                                                                                                                                                                                                                                                                                                                                                                                                                                                                                                                                                                                                                                                                                                                                                                                                  5      1      corpus_rama\n",
       "1  ผมเคยไปทำเลสิกที่นี้   ดีมากครับตอนนี้ผ่ามาจะ2ปีแล้วยังไม่มีผลค้างเคียงอะไรและราคาก็ถูกดีด้วย   ตอนผ่าอาจจะดูน่ากลัวไปซะหน่อย   แต่พอถึงเวลาผ่าจริงๆแล้วไม่รู้สึกเจ็บเลยครับ   เพราะมีการหยอดยาชาก่อนผ่า                                                                                                                                                                                                                                                                                                                                                                                                                                                                                                                                                                                                                                                                                                                                                                                                                                                                                                                                                                                                                                                                                                                                                                                                                                                                                                                                                                                                                                                                                                                                                                                                                                                                                                                                                                                                                                                                                                                                                                                                                                                                                                                                                                                                                                                                                                                                                                                                                                                                                                                                                                                                                                                                                                                                                                                                                                                                                                                                                                                                                                                                                                                                                                                                                                                                                                                                                                                                                                                                                              I used to go to LASIK here. Very good. Now, it has been 2 years since it has no effect. And the price is also good. The cut may look scary. But when it was really time to do it, it didn&#39;t hurt. Because there was a drop of anesthetic before dissection                                                                                                                                                                                                                                                                                                                                                                                                                                                                                                                                                                                                                                                                                                                                                                                                                                                                                                                                                                                                                                                                                                                                                                                                                                                                                                                                                                                                                                                                                                                                                                                                                                                                                                                                                                                                                                                                                                                                                                                                                                                                                                                                                                                                                                                                                                                                                                                                                                                                                                                                                                                                                                                                                                                                                                                                                                                                                                                                                                                                                                                                                                                                                                                                                                                                                                                                                                                                                                        4      1      corpus_rama\n",
       "2  รักษามาหลายปีแล้วตั้งแต่อายุ14 ตอนนี้จะจบปริญญาตรีแล้ว ตั้งแต่นอนแอดมิดที่ รพ จนหายดีออกมาใช้ชีวิตได้เป็นปกติ โดยเฉพาะคลินิกพรีเมี่ยม ไม่ต้องรอนาน มีความสะดวกรวดเร็วทุกขั้นตอนตั้งแต่จ่ายเงินไปถึงจ่ายยา ค่ารักษาไม่ได้แพงเกินไปเมื่อเทียบเท่ากับเอกชนหลายๆที่ บริการดีมากๆ คุณหมอดูแลเอาใจใส่ดี อยากให้ทุกคนมารักษาที่นี่                                                                                                                                                                                                                                                                                                                                                                                                                                                                                                                                                                                                                                                                                                                                                                                                                                                                                                                                                                                                                                                                                                                                                                                                                                                                                                                                                                                                                                                                                                                                                                                                                                                                                                                                                                                                                                                                                                                                                                                                                                                                                                                                                                                                                                                                                                                                                                                                                                                                                                                                                                                                                                                                                                                                                                                                                                                                                                                                                                                                                                                                                                                                                                                                                                                                                                                                                                           Maintained for many years since the age of 14 Will now have a bachelor&#39;s degree From sleeping in the midst of the arthropod until he recovered, he could live a normal life. In particular, premium clinics do not have to wait for a long time. There are convenient, fast, every step from paying to dispensing. The treatment fee is not too expensive when compared to many private services that are very good. Want everyone to come here                                                                                                                                                                                                                                                                                                                                                                                                                                                                                                                                                                                                                                                                                                                                                                                                                                                                                                                                                                                                                                                                                                                                                                                                                                                                                                                                                                                                                                                                                                                                                                                                                                                                                                                                                                                                                                                                                                                                                                                                                                                                                                                                                                                                                                                                                                                                                                                                                                                                                                                                                                                                                                                                                                                                                                                                                                                                                                                                                                                                                                                                                                                                                                                                                                                   5      1      corpus_rama\n",
       "3  ที่ตึกพระเทพชั้น 2 สถานที่เครื่องมือดูทันสมัย แต่ที่ห้องวัดความดัน มีคนที่วัด(คิดว่าไม่ใช่พยาบาลเพราะใส่ชุดสีม่วง) ชอบดุคนที่มาวัด พูดเสียงแข็งใส่คนที่มาวัดความดัน ทั้งๆที่พยาบาลอีกคนที่ใส่ชุดพยาบาลพูดเพราะ อยากให้ปรับปรุง  มาหาหมอที่แผนกศัลยกรรม อาจารย์หมอตรวตแล้วบอกต้องผ่าตัด บอกแค่ว่าต้องผ่าตัดถึงจะหายตอนนั้นช็อคเรื่องผ่าตัดอยู่เลยไม่ได้ถามอะไรเลย แล้วหมอกก็ไปเลยไม่ได้บอกว่าจริงๆเป็นอะไร ระยะไหน (ริดสีดวง) แล้วก็นัดวันผ่า พยาบาลที่นัดคิวก็ไม่สนเวลาเราทวนสิ่งที่บอกมาว่าถูกต้องไหม บอกแค่ว่าตามนั้นแหละ สรุปแล้วเหมือนจะดีแต่รอดูช่วงผ่าตัดก่อน                                                                                                                                                                                                                                                                                                                                                                                                                                                                                                                                                                                                                                                                                                                                                                                                                                                                                                                                                                                                                                                                                                                                                                                                                                                                                                                                                                                                                                                                                                                                                                                                                                                                                                                                                                                                                                                                                                                                                                                                                                                                                                                                                                                                                                                                                                                                                                                                                                                                                                                                                                                                                                                                                                                                                                                                                                                                                                                                                                                                                                                                                                                                   At the 2nd floor of Phra Thep building, the place looks modern. But at the pressure measuring room There are people at the temple (thinking that it&#39;s not a nurse because wearing a purple dress) likes to scold people who come to the temple. Speak stiffly to people who come to measure pressure. In spite of the other nurses who put on a nursing gown, said because Want to improve Come to the doctor at the surgery department Dr. Tawut, then told to have surgery. Just saying that he had to surgery to be healed at that time, he was shocked about the surgery. And the fog went, not really telling what was the distance (Roi-Laem) and then meeting The nurse at Nuek Kyu doesn&#39;t care when we repeat what he says is correct. Just saying that In conclusion, it seems to be good, but waiting to see the surgery before                                                                                                                                                                                                                                                                                                                                                                                                                                                                                                                                                                                                                                                                                                                                                                                                                                                                                                                                                                                                                                                                                                                                                                                                                                                                                                                                                                                                                                                                                                                                                                                                                                                                                                                                                                                                                                                                                                                                                                                                                                                                                                                                                                                                                                                                                                                                                                                                                                                                                                                                                                                                                                                                                                                                                                                                                                                    3      0      corpus_rama\n",
       "4  Its a public hospital so service is bad (nurses are completely unfriendly and doctors have god complex plus horrifying bed side manner) but they will keep you alive (nothing to do with quality of life) with decent drug collection. Young doctors are generally very friendly but they are busy all the time due to the amount of patients (like canned tuna) so don't expect them to spend too much time diagnosing you. You have to come early in the morning to ensure you're in queue and the wait 1-2 (bad days) hours behind schedule to get to see the doctor for < 15 min or less (all together door to door 8-9hrs).  Additionally you can call all the 8 numbers on the websites from normal clinic to Premium and wait 15 minutes on each number just for them to hang up on you or divert you elsewhere then hang up on you..... Worst are the guys doing the schedule because they are very consistent in demonstrating the inability to manage schedules (or not) because you will \"always\" have to wait 1-2 hours \"after\" your appointment schedule to see the doctor but they also cant tell you that so you cant go anywhere and have to hang around the front door.  In the better days you will get to sit inside the doctor's room to wait because the doctor is no where to be found and nobody will know when he/she will come back. If you ask the nurse they will give you the \"i dont know and I couldnt care less\" look and turn away in annoyance.  But yes, they have great ability (the doctors definitely know what they are doing) to use ur tax fund to keep you alive, two stars for that!! Updated review for ER: The best ER u can probably find in Bangkok as they are 24hrs fully staffed with specialty doctors (not just general doctors like other hospitals during off business hours). They are jammed packed but they are fully equipped and by that I mean they have CT scanner in the ER room - this is not something we find everywhere. Doctors know what they are doing and fully equipped with the tools to keep u alive. Even better update: Just decided to go for full blown annual health check at Rama (Feb 2016) and here are the pros and cons: Cons:As a foreigner who pays tax in Thailand ur sort of half screwed. They are not equipped to handle foreign language so if u cant google medical terms properly u might go home thinking everything is perfect when its not...A less life threatening case is that if u pay tax to Thailand ur entitled to Thai citizen price 30% less or so which is surprisingly logical BUT not without flaws...u have to bring the \"physical\" \"original\" tax receipt from revenue dept to show then which u DONT get if u file electronically....so....who does NOT file electronically? I dont know one....maybe my parents but they're 75.... Pros:Omg its a very pleasant surprise that this clinic operates with the speed, manner, and professionalism that you'd expect in that of top 5 high end private hospital. The ambiance, the friendliness, politeness (which usually does not happen in public hospital), and the facility is great. I am very impressed with the speed at which they operate so thats 8.30-12:00 easy. Just like u would get at private hospital. 4th floor Prathep bldg zone Q - they did an exceptional job of scanning our x ray and ultrasound result 2-3 times just to make sure its accurate and they call u of the pending result (in case there is a need for special radiologist to check the films) in less than 4 hours after doctor visit. Overall - hell yeah I will do my Health check here going forward for 1/3 the price i would pay otherwise...:  Its a public hospital so service is bad (nurses are completely unfriendly and doctors have god complex plus horrifying bed side manner) but they will keep you alive (nothing to do with quality of life) with decent drug collection. Young doctors are generally very friendly but they are busy all the time due to the amount of patients (like canned tuna) so don't expect them to spend too much time diagnosing you. You have to come early in the morning to ensure you're in queue and the wait 1-2 (bad days) hours behind schedule to get to see the doctor for < 15 min or less (all together door to door 8-9hrs).  Additionally you can call all the 8 numbers on the websites from normal clinic to Premium and wait 15 minutes on each number just for them to hang up on you or divert you elsewhere then hang up on you..... Worst are the guys doing the schedule because they are very consistent in demonstrating the inability to manage schedules (or not) because you will \"always\" have to wait 1-2 hours \"after\" your appointment schedule to see the doctor but they also cant tell you that so you cant go anywhere and have to hang around the front door.  In the better days you will get to sit inside the doctor's room to wait because the doctor is no where to be found and nobody will know when he/she will come back. If you ask the nurse they will give you the \"i dont know and I couldnt care less\" look and turn away in annoyance.  But yes, they have great ability (the doctors definitely know what they are doing) to use ur tax fund to keep you alive, two stars for that!! Updated review for ER: The best ER u can probably find in Bangkok as they are 24hrs fully staffed with specialty doctors (not just general doctors like other hospitals during off business hours). They are jammed packed but they are fully equipped and by that I mean they have CT scanner in the ER room - this is not something we find everywhere. Doctors know what they are doing and fully equipped with the tools to keep u alive. Even better update: Just decided to go for full blown annual health check at Rama (Feb 2016) and here are the pros and cons: Cons:As a foreigner who pays tax in Thailand ur sort of half screwed. They are not equipped to handle foreign language so if u cant google medical terms properly u might go home thinking everything is perfect when its not...A less life threatening case is that if u pay tax to Thailand ur entitled to Thai citizen price 30% less or so which is surprisingly logical BUT not without flaws...u have to bring the \"physical\" \"original\" tax receipt from revenue dept to show then which u DONT get if u file electronically....so....who does NOT file electronically? I dont know one....maybe my parents but they're 75.... Pros:Omg its a very pleasant surprise that this clinic operates with the speed, manner, and professionalism that you'd expect in that of top 5 high end private hospital. The ambiance, the friendliness, politeness (which usually does not happen in public hospital), and the facility is great. I am very impressed with the speed at which they operate so thats 8.30-12:00 easy. Just like u would get at private hospital. 4th floor Prathep bldg zone Q - they did an exceptional job of scanning our x ray and ultrasound result 2-3 times just to make sure its accurate and they call u of the pending result (in case there is a need for special radiologist to check the films) in less than 4 hours after doctor visit. Overall - hell yeah I will do my Health check here going forward for 1/3 the price i would pay otherwise...:  4      1      corpus_rama"
      ]
     },
     "execution_count": 5,
     "metadata": {},
     "output_type": "execute_result"
    }
   ],
   "source": [
    "# Pooling all comments of Ramathibodi, Siriraj, and Chula hospital\n",
    "df = pd.concat(df_tmp.values(), ignore_index=True)\n",
    "df.head()"
   ]
  },
  {
   "cell_type": "code",
   "execution_count": 6,
   "metadata": {},
   "outputs": [
    {
     "data": {
      "text/html": [
       "<div>\n",
       "<style scoped>\n",
       "    .dataframe tbody tr th:only-of-type {\n",
       "        vertical-align: middle;\n",
       "    }\n",
       "\n",
       "    .dataframe tbody tr th {\n",
       "        vertical-align: top;\n",
       "    }\n",
       "\n",
       "    .dataframe thead th {\n",
       "        text-align: right;\n",
       "    }\n",
       "</style>\n",
       "<table border=\"1\" class=\"dataframe\">\n",
       "  <thead>\n",
       "    <tr style=\"text-align: right;\">\n",
       "      <th></th>\n",
       "      <th>comment_th</th>\n",
       "      <th>comment_eng</th>\n",
       "      <th>score</th>\n",
       "      <th>class</th>\n",
       "      <th>hospital</th>\n",
       "    </tr>\n",
       "  </thead>\n",
       "  <tbody>\n",
       "    <tr>\n",
       "      <th>0</th>\n",
       "      <td>เคยได้ไปลองใช้บริการคลีนิคนอกเวลาของรามาเมื่อต้นปีที่แล้ว ได้เข้ารักษาเลเซอร์บนในหน้า พยสบสลกับคุณหมอใจดีมากๆ เป็นกันเอง ดูแลอย่างทั่วถึง รอคิวไม่นานเลย แต่ต้องโทรไปจองล่วงหน้าก่อนน่ะค่ะ การรักศึกษาของคุณหมอมไ่เจ็บเลยค่ะ ไม่ถึง5นาทีการรักษา ผลลัพที่ออกมารอยใบบนหน้าหายหมดเลยค่ะ ค่ารักรักษาพยนบาลไม่แพงด้วย</td>\n",
       "      <td>Used to try Ramadan part-time clinic earlier this year Got onto the top laser treatment in the face The doctor is very kind and friendly. Care thoroughly. Waiting for a long time But have to call to reserve in advance The love of the doctor's education hurts me. Less than 5 minutes treatment The result came out, the leaves on the face disappeared. Love fee is not expensive as well.</td>\n",
       "      <td>5</td>\n",
       "      <td>1</td>\n",
       "      <td>corpus_rama</td>\n",
       "    </tr>\n",
       "    <tr>\n",
       "      <th>1</th>\n",
       "      <td>ผมเคยไปทำเลสิกที่นี้   ดีมากครับตอนนี้ผ่ามาจะ2ปีแล้วยังไม่มีผลค้างเคียงอะไรและราคาก็ถูกดีด้วย   ตอนผ่าอาจจะดูน่ากลัวไปซะหน่อย   แต่พอถึงเวลาผ่าจริงๆแล้วไม่รู้สึกเจ็บเลยครับ   เพราะมีการหยอดยาชาก่อนผ่า</td>\n",
       "      <td>I used to go to LASIK here. Very good. Now, it has been 2 years since it has no effect. And the price is also good. The cut may look scary. But when it was really time to do it, it didn't hurt. Because there was a drop of anesthetic before dissection</td>\n",
       "      <td>4</td>\n",
       "      <td>1</td>\n",
       "      <td>corpus_rama</td>\n",
       "    </tr>\n",
       "    <tr>\n",
       "      <th>2</th>\n",
       "      <td>รักษามาหลายปีแล้วตั้งแต่อายุ14 ตอนนี้จะจบปริญญาตรีแล้ว ตั้งแต่นอนแอดมิดที่ รพ จนหายดีออกมาใช้ชีวิตได้เป็นปกติ โดยเฉพาะคลินิกพรีเมี่ยม ไม่ต้องรอนาน มีความสะดวกรวดเร็วทุกขั้นตอนตั้งแต่จ่ายเงินไปถึงจ่ายยา ค่ารักษาไม่ได้แพงเกินไปเมื่อเทียบเท่ากับเอกชนหลายๆที่ บริการดีมากๆ คุณหมอดูแลเอาใจใส่ดี อยากให้ทุกคนมารักษาที่นี่</td>\n",
       "      <td>Maintained for many years since the age of 14 Will now have a bachelor's degree From sleeping in the midst of the arthropod until he recovered, he could live a normal life. In particular, premium clinics do not have to wait for a long time. There are convenient, fast, every step from paying to dispensing. The treatment fee is not too expensive when compared to many private services that are very good. Want everyone to come here</td>\n",
       "      <td>5</td>\n",
       "      <td>1</td>\n",
       "      <td>corpus_rama</td>\n",
       "    </tr>\n",
       "    <tr>\n",
       "      <th>3</th>\n",
       "      <td>ที่ตึกพระเทพชั้น 2 สถานที่เครื่องมือดูทันสมัย แต่ที่ห้องวัดความดัน มีคนที่วัด(คิดว่าไม่ใช่พยาบาลเพราะใส่ชุดสีม่วง) ชอบดุคนที่มาวัด พูดเสียงแข็งใส่คนที่มาวัดความดัน ทั้งๆที่พยาบาลอีกคนที่ใส่ชุดพยาบาลพูดเพราะ อยากให้ปรับปรุง  มาหาหมอที่แผนกศัลยกรรม อาจารย์หมอตรวตแล้วบอกต้องผ่าตัด บอกแค่ว่าต้องผ่าตัดถึงจะหายตอนนั้นช็อคเรื่องผ่าตัดอยู่เลยไม่ได้ถามอะไรเลย แล้วหมอกก็ไปเลยไม่ได้บอกว่าจริงๆเป็นอะไร ระยะไหน (ริดสีดวง) แล้วก็นัดวันผ่า พยาบาลที่นัดคิวก็ไม่สนเวลาเราทวนสิ่งที่บอกมาว่าถูกต้องไหม บอกแค่ว่าตามนั้นแหละ สรุปแล้วเหมือนจะดีแต่รอดูช่วงผ่าตัดก่อน</td>\n",
       "      <td>At the 2nd floor of Phra Thep building, the place looks modern. But at the pressure measuring room There are people at the temple (thinking that it's not a nurse because wearing a purple dress) likes to scold people who come to the temple. Speak stiffly to people who come to measure pressure. In spite of the other nurses who put on a nursing gown, said because Want to improve Come to the doctor at the surgery department Dr. Tawut, then told to have surgery. Just saying that he had to surgery to be healed at that time, he was shocked about the surgery. And the fog went, not really telling what was the distance (Roi-Laem) and then meeting The nurse at Nuek Kyu doesn't care when we repeat what he says is correct. Just saying that In conclusion, it seems to be good, but waiting to see the surgery before</td>\n",
       "      <td>3</td>\n",
       "      <td>0</td>\n",
       "      <td>corpus_rama</td>\n",
       "    </tr>\n",
       "    <tr>\n",
       "      <th>4</th>\n",
       "      <td>Its a public hospital so service is bad (nurses are completely unfriendly and doctors have god complex plus horrifying bed side manner) but they will keep you alive (nothing to do with quality of life) with decent drug collection. Young doctors are generally very friendly but they are busy all the time due to the amount of patients (like canned tuna) so don't expect them to spend too much time diagnosing you. You have to come early in the morning to ensure you're in queue and the wait 1-2 (bad days) hours behind schedule to get to see the doctor for &lt; 15 min or less (all together door to door 8-9hrs).  Additionally you can call all the 8 numbers on the websites from normal clinic to Premium and wait 15 minutes on each number just for them to hang up on you or divert you elsewhere then hang up on you..... Worst are the guys doing the schedule because they are very consistent in demonstrating the inability to manage schedules (or not) because you will \"always\" have to wait 1-2 hours \"after\" your appointment schedule to see the doctor but they also cant tell you that so you cant go anywhere and have to hang around the front door.  In the better days you will get to sit inside the doctor's room to wait because the doctor is no where to be found and nobody will know when he/she will come back. If you ask the nurse they will give you the \"i dont know and I couldnt care less\" look and turn away in annoyance.  But yes, they have great ability (the doctors definitely know what they are doing) to use ur tax fund to keep you alive, two stars for that!! Updated review for ER: The best ER u can probably find in Bangkok as they are 24hrs fully staffed with specialty doctors (not just general doctors like other hospitals during off business hours). They are jammed packed but they are fully equipped and by that I mean they have CT scanner in the ER room - this is not something we find everywhere. Doctors know what they are doing and fully equipped with the tools to keep u alive. Even better update: Just decided to go for full blown annual health check at Rama (Feb 2016) and here are the pros and cons: Cons:As a foreigner who pays tax in Thailand ur sort of half screwed. They are not equipped to handle foreign language so if u cant google medical terms properly u might go home thinking everything is perfect when its not...A less life threatening case is that if u pay tax to Thailand ur entitled to Thai citizen price 30% less or so which is surprisingly logical BUT not without flaws...u have to bring the \"physical\" \"original\" tax receipt from revenue dept to show then which u DONT get if u file electronically....so....who does NOT file electronically? I dont know one....maybe my parents but they're 75.... Pros:Omg its a very pleasant surprise that this clinic operates with the speed, manner, and professionalism that you'd expect in that of top 5 high end private hospital. The ambiance, the friendliness, politeness (which usually does not happen in public hospital), and the facility is great. I am very impressed with the speed at which they operate so thats 8.30-12:00 easy. Just like u would get at private hospital. 4th floor Prathep bldg zone Q - they did an exceptional job of scanning our x ray and ultrasound result 2-3 times just to make sure its accurate and they call u of the pending result (in case there is a need for special radiologist to check the films) in less than 4 hours after doctor visit. Overall - hell yeah I will do my Health check here going forward for 1/3 the price i would pay otherwise...:</td>\n",
       "      <td>Its a public hospital so service is bad (nurses are completely unfriendly and doctors have god complex plus horrifying bed side manner) but they will keep you alive (nothing to do with quality of life) with decent drug collection. Young doctors are generally very friendly but they are busy all the time due to the amount of patients (like canned tuna) so don't expect them to spend too much time diagnosing you. You have to come early in the morning to ensure you're in queue and the wait 1-2 (bad days) hours behind schedule to get to see the doctor for &lt; 15 min or less (all together door to door 8-9hrs).  Additionally you can call all the 8 numbers on the websites from normal clinic to Premium and wait 15 minutes on each number just for them to hang up on you or divert you elsewhere then hang up on you..... Worst are the guys doing the schedule because they are very consistent in demonstrating the inability to manage schedules (or not) because you will \"always\" have to wait 1-2 hours \"after\" your appointment schedule to see the doctor but they also cant tell you that so you cant go anywhere and have to hang around the front door.  In the better days you will get to sit inside the doctor's room to wait because the doctor is no where to be found and nobody will know when he/she will come back. If you ask the nurse they will give you the \"i dont know and I couldnt care less\" look and turn away in annoyance.  But yes, they have great ability (the doctors definitely know what they are doing) to use ur tax fund to keep you alive, two stars for that!! Updated review for ER: The best ER u can probably find in Bangkok as they are 24hrs fully staffed with specialty doctors (not just general doctors like other hospitals during off business hours). They are jammed packed but they are fully equipped and by that I mean they have CT scanner in the ER room - this is not something we find everywhere. Doctors know what they are doing and fully equipped with the tools to keep u alive. Even better update: Just decided to go for full blown annual health check at Rama (Feb 2016) and here are the pros and cons: Cons:As a foreigner who pays tax in Thailand ur sort of half screwed. They are not equipped to handle foreign language so if u cant google medical terms properly u might go home thinking everything is perfect when its not...A less life threatening case is that if u pay tax to Thailand ur entitled to Thai citizen price 30% less or so which is surprisingly logical BUT not without flaws...u have to bring the \"physical\" \"original\" tax receipt from revenue dept to show then which u DONT get if u file electronically....so....who does NOT file electronically? I dont know one....maybe my parents but they're 75.... Pros:Omg its a very pleasant surprise that this clinic operates with the speed, manner, and professionalism that you'd expect in that of top 5 high end private hospital. The ambiance, the friendliness, politeness (which usually does not happen in public hospital), and the facility is great. I am very impressed with the speed at which they operate so thats 8.30-12:00 easy. Just like u would get at private hospital. 4th floor Prathep bldg zone Q - they did an exceptional job of scanning our x ray and ultrasound result 2-3 times just to make sure its accurate and they call u of the pending result (in case there is a need for special radiologist to check the films) in less than 4 hours after doctor visit. Overall - hell yeah I will do my Health check here going forward for 1/3 the price i would pay otherwise...:</td>\n",
       "      <td>4</td>\n",
       "      <td>1</td>\n",
       "      <td>corpus_rama</td>\n",
       "    </tr>\n",
       "  </tbody>\n",
       "</table>\n",
       "</div>"
      ],
      "text/plain": [
       "                                                                                                                                                                                                                                                                                                                                                                                                                                                                                                                                                                                                                                                                                                                                                                                                                                                                                                                                                                                                                                                                                                                                                                                                                                                                                                                                                                                                                                                                                                                                                                                                                                                                                                                                                                                                                                                                                                                                                                                                                                                                                                                                                                                                                                                                                                                                                                                                                                                                                                                                                                                                                                                                                                                                                                                                                                                                                                                                                                                                                                                                                                                                                                                                                                                                                                                                                                                                                                                                                                                                                                                                                                                                                             comment_th                                                                                                                                                                                                                                                                                                                                                                                                                                                                                                                                                                                                                                                                                                                                                                                                                                                                                                                                                                                                                                                                                                                                                                                                                                                                                                                                                                                                                                                                                                                                                                                                                                                                                                                                                                                                                                                                                                                                                                                                                                                                                                                                                                                                                                                                                                                                                                                                                                                                                                                                                                                                                                                                                                                                                                                                                                                                                                                                                                                                                                                                                                                                                                                                                                                                                                                                                                                                                                                                                                                                                                                                                                                                                           comment_eng  score  class     hospital\n",
       "0  เคยได้ไปลองใช้บริการคลีนิคนอกเวลาของรามาเมื่อต้นปีที่แล้ว ได้เข้ารักษาเลเซอร์บนในหน้า พยสบสลกับคุณหมอใจดีมากๆ เป็นกันเอง ดูแลอย่างทั่วถึง รอคิวไม่นานเลย แต่ต้องโทรไปจองล่วงหน้าก่อนน่ะค่ะ การรักศึกษาของคุณหมอมไ่เจ็บเลยค่ะ ไม่ถึง5นาทีการรักษา ผลลัพที่ออกมารอยใบบนหน้าหายหมดเลยค่ะ ค่ารักรักษาพยนบาลไม่แพงด้วย                                                                                                                                                                                                                                                                                                                                                                                                                                                                                                                                                                                                                                                                                                                                                                                                                                                                                                                                                                                                                                                                                                                                                                                                                                                                                                                                                                                                                                                                                                                                                                                                                                                                                                                                                                                                                                                                                                                                                                                                                                                                                                                                                                                                                                                                                                                                                                                                                                                                                                                                                                                                                                                                                                                                                                                                                                                                                                                                                                                                                                                                                                                                                                                                                                                                                                                                                                                     Used to try Ramadan part-time clinic earlier this year Got onto the top laser treatment in the face The doctor is very kind and friendly. Care thoroughly. Waiting for a long time But have to call to reserve in advance The love of the doctor's education hurts me. Less than 5 minutes treatment The result came out, the leaves on the face disappeared. Love fee is not expensive as well.                                                                                                                                                                                                                                                                                                                                                                                                                                                                                                                                                                                                                                                                                                                                                                                                                                                                                                                                                                                                                                                                                                                                                                                                                                                                                                                                                                                                                                                                                                                                                                                                                                                                                                                                                                                                                                                                                                                                                                                                                                                                                                                                                                                                                                                                                                                                                                                                                                                                                                                                                                                                                                                                                                                                                                                                                                                                                                                                                                                                                                                                                                                                                                                                                                                                                                      5      1      corpus_rama\n",
       "1  ผมเคยไปทำเลสิกที่นี้   ดีมากครับตอนนี้ผ่ามาจะ2ปีแล้วยังไม่มีผลค้างเคียงอะไรและราคาก็ถูกดีด้วย   ตอนผ่าอาจจะดูน่ากลัวไปซะหน่อย   แต่พอถึงเวลาผ่าจริงๆแล้วไม่รู้สึกเจ็บเลยครับ   เพราะมีการหยอดยาชาก่อนผ่า                                                                                                                                                                                                                                                                                                                                                                                                                                                                                                                                                                                                                                                                                                                                                                                                                                                                                                                                                                                                                                                                                                                                                                                                                                                                                                                                                                                                                                                                                                                                                                                                                                                                                                                                                                                                                                                                                                                                                                                                                                                                                                                                                                                                                                                                                                                                                                                                                                                                                                                                                                                                                                                                                                                                                                                                                                                                                                                                                                                                                                                                                                                                                                                                                                                                                                                                                                                                                                                                                              I used to go to LASIK here. Very good. Now, it has been 2 years since it has no effect. And the price is also good. The cut may look scary. But when it was really time to do it, it didn't hurt. Because there was a drop of anesthetic before dissection                                                                                                                                                                                                                                                                                                                                                                                                                                                                                                                                                                                                                                                                                                                                                                                                                                                                                                                                                                                                                                                                                                                                                                                                                                                                                                                                                                                                                                                                                                                                                                                                                                                                                                                                                                                                                                                                                                                                                                                                                                                                                                                                                                                                                                                                                                                                                                                                                                                                                                                                                                                                                                                                                                                                                                                                                                                                                                                                                                                                                                                                                                                                                                                                                                                                                                                                                                                                                                            4      1      corpus_rama\n",
       "2  รักษามาหลายปีแล้วตั้งแต่อายุ14 ตอนนี้จะจบปริญญาตรีแล้ว ตั้งแต่นอนแอดมิดที่ รพ จนหายดีออกมาใช้ชีวิตได้เป็นปกติ โดยเฉพาะคลินิกพรีเมี่ยม ไม่ต้องรอนาน มีความสะดวกรวดเร็วทุกขั้นตอนตั้งแต่จ่ายเงินไปถึงจ่ายยา ค่ารักษาไม่ได้แพงเกินไปเมื่อเทียบเท่ากับเอกชนหลายๆที่ บริการดีมากๆ คุณหมอดูแลเอาใจใส่ดี อยากให้ทุกคนมารักษาที่นี่                                                                                                                                                                                                                                                                                                                                                                                                                                                                                                                                                                                                                                                                                                                                                                                                                                                                                                                                                                                                                                                                                                                                                                                                                                                                                                                                                                                                                                                                                                                                                                                                                                                                                                                                                                                                                                                                                                                                                                                                                                                                                                                                                                                                                                                                                                                                                                                                                                                                                                                                                                                                                                                                                                                                                                                                                                                                                                                                                                                                                                                                                                                                                                                                                                                                                                                                                                           Maintained for many years since the age of 14 Will now have a bachelor's degree From sleeping in the midst of the arthropod until he recovered, he could live a normal life. In particular, premium clinics do not have to wait for a long time. There are convenient, fast, every step from paying to dispensing. The treatment fee is not too expensive when compared to many private services that are very good. Want everyone to come here                                                                                                                                                                                                                                                                                                                                                                                                                                                                                                                                                                                                                                                                                                                                                                                                                                                                                                                                                                                                                                                                                                                                                                                                                                                                                                                                                                                                                                                                                                                                                                                                                                                                                                                                                                                                                                                                                                                                                                                                                                                                                                                                                                                                                                                                                                                                                                                                                                                                                                                                                                                                                                                                                                                                                                                                                                                                                                                                                                                                                                                                                                                                                                                                                                                       5      1      corpus_rama\n",
       "3  ที่ตึกพระเทพชั้น 2 สถานที่เครื่องมือดูทันสมัย แต่ที่ห้องวัดความดัน มีคนที่วัด(คิดว่าไม่ใช่พยาบาลเพราะใส่ชุดสีม่วง) ชอบดุคนที่มาวัด พูดเสียงแข็งใส่คนที่มาวัดความดัน ทั้งๆที่พยาบาลอีกคนที่ใส่ชุดพยาบาลพูดเพราะ อยากให้ปรับปรุง  มาหาหมอที่แผนกศัลยกรรม อาจารย์หมอตรวตแล้วบอกต้องผ่าตัด บอกแค่ว่าต้องผ่าตัดถึงจะหายตอนนั้นช็อคเรื่องผ่าตัดอยู่เลยไม่ได้ถามอะไรเลย แล้วหมอกก็ไปเลยไม่ได้บอกว่าจริงๆเป็นอะไร ระยะไหน (ริดสีดวง) แล้วก็นัดวันผ่า พยาบาลที่นัดคิวก็ไม่สนเวลาเราทวนสิ่งที่บอกมาว่าถูกต้องไหม บอกแค่ว่าตามนั้นแหละ สรุปแล้วเหมือนจะดีแต่รอดูช่วงผ่าตัดก่อน                                                                                                                                                                                                                                                                                                                                                                                                                                                                                                                                                                                                                                                                                                                                                                                                                                                                                                                                                                                                                                                                                                                                                                                                                                                                                                                                                                                                                                                                                                                                                                                                                                                                                                                                                                                                                                                                                                                                                                                                                                                                                                                                                                                                                                                                                                                                                                                                                                                                                                                                                                                                                                                                                                                                                                                                                                                                                                                                                                                                                                                                                                                                   At the 2nd floor of Phra Thep building, the place looks modern. But at the pressure measuring room There are people at the temple (thinking that it's not a nurse because wearing a purple dress) likes to scold people who come to the temple. Speak stiffly to people who come to measure pressure. In spite of the other nurses who put on a nursing gown, said because Want to improve Come to the doctor at the surgery department Dr. Tawut, then told to have surgery. Just saying that he had to surgery to be healed at that time, he was shocked about the surgery. And the fog went, not really telling what was the distance (Roi-Laem) and then meeting The nurse at Nuek Kyu doesn't care when we repeat what he says is correct. Just saying that In conclusion, it seems to be good, but waiting to see the surgery before                                                                                                                                                                                                                                                                                                                                                                                                                                                                                                                                                                                                                                                                                                                                                                                                                                                                                                                                                                                                                                                                                                                                                                                                                                                                                                                                                                                                                                                                                                                                                                                                                                                                                                                                                                                                                                                                                                                                                                                                                                                                                                                                                                                                                                                                                                                                                                                                                                                                                                                                                                                                                                                                                                                                                                                                                                                            3      0      corpus_rama\n",
       "4  Its a public hospital so service is bad (nurses are completely unfriendly and doctors have god complex plus horrifying bed side manner) but they will keep you alive (nothing to do with quality of life) with decent drug collection. Young doctors are generally very friendly but they are busy all the time due to the amount of patients (like canned tuna) so don't expect them to spend too much time diagnosing you. You have to come early in the morning to ensure you're in queue and the wait 1-2 (bad days) hours behind schedule to get to see the doctor for < 15 min or less (all together door to door 8-9hrs).  Additionally you can call all the 8 numbers on the websites from normal clinic to Premium and wait 15 minutes on each number just for them to hang up on you or divert you elsewhere then hang up on you..... Worst are the guys doing the schedule because they are very consistent in demonstrating the inability to manage schedules (or not) because you will \"always\" have to wait 1-2 hours \"after\" your appointment schedule to see the doctor but they also cant tell you that so you cant go anywhere and have to hang around the front door.  In the better days you will get to sit inside the doctor's room to wait because the doctor is no where to be found and nobody will know when he/she will come back. If you ask the nurse they will give you the \"i dont know and I couldnt care less\" look and turn away in annoyance.  But yes, they have great ability (the doctors definitely know what they are doing) to use ur tax fund to keep you alive, two stars for that!! Updated review for ER: The best ER u can probably find in Bangkok as they are 24hrs fully staffed with specialty doctors (not just general doctors like other hospitals during off business hours). They are jammed packed but they are fully equipped and by that I mean they have CT scanner in the ER room - this is not something we find everywhere. Doctors know what they are doing and fully equipped with the tools to keep u alive. Even better update: Just decided to go for full blown annual health check at Rama (Feb 2016) and here are the pros and cons: Cons:As a foreigner who pays tax in Thailand ur sort of half screwed. They are not equipped to handle foreign language so if u cant google medical terms properly u might go home thinking everything is perfect when its not...A less life threatening case is that if u pay tax to Thailand ur entitled to Thai citizen price 30% less or so which is surprisingly logical BUT not without flaws...u have to bring the \"physical\" \"original\" tax receipt from revenue dept to show then which u DONT get if u file electronically....so....who does NOT file electronically? I dont know one....maybe my parents but they're 75.... Pros:Omg its a very pleasant surprise that this clinic operates with the speed, manner, and professionalism that you'd expect in that of top 5 high end private hospital. The ambiance, the friendliness, politeness (which usually does not happen in public hospital), and the facility is great. I am very impressed with the speed at which they operate so thats 8.30-12:00 easy. Just like u would get at private hospital. 4th floor Prathep bldg zone Q - they did an exceptional job of scanning our x ray and ultrasound result 2-3 times just to make sure its accurate and they call u of the pending result (in case there is a need for special radiologist to check the films) in less than 4 hours after doctor visit. Overall - hell yeah I will do my Health check here going forward for 1/3 the price i would pay otherwise...:  Its a public hospital so service is bad (nurses are completely unfriendly and doctors have god complex plus horrifying bed side manner) but they will keep you alive (nothing to do with quality of life) with decent drug collection. Young doctors are generally very friendly but they are busy all the time due to the amount of patients (like canned tuna) so don't expect them to spend too much time diagnosing you. You have to come early in the morning to ensure you're in queue and the wait 1-2 (bad days) hours behind schedule to get to see the doctor for < 15 min or less (all together door to door 8-9hrs).  Additionally you can call all the 8 numbers on the websites from normal clinic to Premium and wait 15 minutes on each number just for them to hang up on you or divert you elsewhere then hang up on you..... Worst are the guys doing the schedule because they are very consistent in demonstrating the inability to manage schedules (or not) because you will \"always\" have to wait 1-2 hours \"after\" your appointment schedule to see the doctor but they also cant tell you that so you cant go anywhere and have to hang around the front door.  In the better days you will get to sit inside the doctor's room to wait because the doctor is no where to be found and nobody will know when he/she will come back. If you ask the nurse they will give you the \"i dont know and I couldnt care less\" look and turn away in annoyance.  But yes, they have great ability (the doctors definitely know what they are doing) to use ur tax fund to keep you alive, two stars for that!! Updated review for ER: The best ER u can probably find in Bangkok as they are 24hrs fully staffed with specialty doctors (not just general doctors like other hospitals during off business hours). They are jammed packed but they are fully equipped and by that I mean they have CT scanner in the ER room - this is not something we find everywhere. Doctors know what they are doing and fully equipped with the tools to keep u alive. Even better update: Just decided to go for full blown annual health check at Rama (Feb 2016) and here are the pros and cons: Cons:As a foreigner who pays tax in Thailand ur sort of half screwed. They are not equipped to handle foreign language so if u cant google medical terms properly u might go home thinking everything is perfect when its not...A less life threatening case is that if u pay tax to Thailand ur entitled to Thai citizen price 30% less or so which is surprisingly logical BUT not without flaws...u have to bring the \"physical\" \"original\" tax receipt from revenue dept to show then which u DONT get if u file electronically....so....who does NOT file electronically? I dont know one....maybe my parents but they're 75.... Pros:Omg its a very pleasant surprise that this clinic operates with the speed, manner, and professionalism that you'd expect in that of top 5 high end private hospital. The ambiance, the friendliness, politeness (which usually does not happen in public hospital), and the facility is great. I am very impressed with the speed at which they operate so thats 8.30-12:00 easy. Just like u would get at private hospital. 4th floor Prathep bldg zone Q - they did an exceptional job of scanning our x ray and ultrasound result 2-3 times just to make sure its accurate and they call u of the pending result (in case there is a need for special radiologist to check the films) in less than 4 hours after doctor visit. Overall - hell yeah I will do my Health check here going forward for 1/3 the price i would pay otherwise...:  4      1      corpus_rama"
      ]
     },
     "execution_count": 6,
     "metadata": {},
     "output_type": "execute_result"
    }
   ],
   "source": [
    "### According to the sampling display, '&#39;' is found.\n",
    "### '&#39;' is one of HTML entities and it means aposthophe (')\n",
    "### It should be replaced with \"'\"\n",
    "df['comment_eng'] = df['comment_eng'].apply(lambda x: html.unescape(x))\n",
    "df.head()"
   ]
  },
  {
   "cell_type": "code",
   "execution_count": 7,
   "metadata": {},
   "outputs": [
    {
     "name": "stdout",
     "output_type": "stream",
     "text": [
      " 1    475\n",
      "-1    118\n",
      " 0    56 \n",
      "Name: class, dtype: int64\n"
     ]
    }
   ],
   "source": [
    "# Distribution over classes of Positive(1), Negative(-1), and Neutral(0)\n",
    "print(df['class'].value_counts())"
   ]
  },
  {
   "cell_type": "markdown",
   "metadata": {},
   "source": [
    "## __Data Splitting: Training, Validation, Test__"
   ]
  },
  {
   "cell_type": "markdown",
   "metadata": {},
   "source": [
    "### Split data to 60:20:20 for training, validation, and test data set, respectively\n",
    "\n",
    "> Use only POSITIVE(1) and NEGATIVE(-1) classes because these classes are more meaningful compared to the NEUTRAL(0) group"
   ]
  },
  {
   "cell_type": "code",
   "execution_count": 8,
   "metadata": {},
   "outputs": [
    {
     "name": "stdout",
     "output_type": "stream",
     "text": [
      "y values: [1, -1]\n",
      "Size of training dataset: 355, stratified to Counter({1: 285, -1: 70})\n",
      "Size of validating dataset: 119, stratified to Counter({1: 95, -1: 24})\n",
      "Size of test dataset: 119, stratified to Counter({1: 95, -1: 24})\n"
     ]
    }
   ],
   "source": [
    "def split_trn_val_tst(df, random_state):\n",
    "    # Separate dataframe into 2 classes as 1 and -1 to stratify sampling by class\n",
    "    df_pos = df[(df['class']==1)]\n",
    "    df_neg = df[(df['class']==-1)]\n",
    "    \n",
    "    # Splitting into 3 dataset: train, validate, and test\n",
    "    # Straitify sampling by class\n",
    "    pos_train, pos_validate, pos_test = np.split(df_pos.sample(frac=1, random_state = random_state), \n",
    "                                                 [int(0.6*len(df_pos)), int(0.8*len(df_pos))])\n",
    "    neg_train, neg_validate, neg_test = np.split(df_neg.sample(frac=1, random_state = random_state), \n",
    "                                                 [int(0.6*len(df_neg)), int(0.8*len(df_neg))])\n",
    "    \n",
    "    # Append positive and negaive classes for each dataset\n",
    "    df_train = pd.concat([pos_train, neg_train])\n",
    "    df_val = pd.concat([pos_validate, neg_validate])\n",
    "    df_test = pd.concat([pos_test, neg_test])\n",
    "    \n",
    "    # Create X_train, X_val, X_test, y_train, y_val, y_test for using in analysis\n",
    "    X_train = df_train.loc[:,'comment_eng']\n",
    "    X_val = df_val.loc[:,'comment_eng']\n",
    "    X_test = df_test.loc[:,'comment_eng']\n",
    "    y_train = df_train.iloc[:,-2]\n",
    "    y_val = df_val.iloc[:,-2]\n",
    "    y_test = df_test.iloc[:,-2]\n",
    "    \n",
    "    print('y values: {}'.format(list(y_train.unique())))\n",
    "    print('Size of training dataset: {}, stratified to {}'.format(X_train.shape[0],Counter(y_train)))\n",
    "    print('Size of validating dataset: {}, stratified to {}'.format(X_val.shape[0], Counter(y_val)))\n",
    "    print('Size of test dataset: {}, stratified to {}'.format(X_test.shape[0], Counter(y_test)))\n",
    "    return df_train, df_val, df_test, X_train, X_val, X_test, y_train, y_val, y_test\n",
    "\n",
    "df_train, df_val, df_test, comment_train, comment_val, comment_test, y_train, y_val, y_test = split_trn_val_tst(df, random_state=30)"
   ]
  },
  {
   "cell_type": "markdown",
   "metadata": {},
   "source": [
    "## __Descriptive analysis for training dataset__"
   ]
  },
  {
   "cell_type": "code",
   "execution_count": 9,
   "metadata": {},
   "outputs": [
    {
     "name": "stdout",
     "output_type": "stream",
     "text": [
      "Descriptive analysis of training dataset\n",
      "Size = 355 comments\n",
      "Numer of numeric = 419\n",
      "Numer of characters = 68,638\n",
      "Numer of words = 15,721\n",
      "Numer of uppercases = 202\n",
      "Numer of stopwords = 6,083\n",
      "Numer of negations = 6,775\n",
      "Numer of punctuations = 23\n"
     ]
    }
   ],
   "source": [
    "# Function for counting number of numeric in a comment\n",
    "def count_numeric(comment):\n",
    "    n_numeric = len(re.findall(r'[0-9]', comment))\n",
    "    return n_numeric\n",
    "\n",
    "# Function for counting number of characters in a comment\n",
    "def count_character(comment):\n",
    "    n_char = len(re.findall(r'[a-zA-Z]', comment))\n",
    "    return n_char\n",
    "\n",
    "# Function for counting number of words in a comment which are splitted by space\n",
    "def count_word(comment):\n",
    "    n_word = len(comment.split())\n",
    "    return n_word\n",
    "\n",
    "# Function for counting number of uppercase words in a comment which are splitted by space\n",
    "def count_uppercase(comment):\n",
    "    n_uppercase = sum([int(1) if x.isupper()==True else int(0) for x in str(comment).split()])\n",
    "    return n_uppercase\n",
    "\n",
    "# Function for counting number of stop words in a comment which are splitted by space\n",
    "# The stop words list comes from the combination of 2 libraries: stop_words and nltk.corpus\n",
    "def count_stopword(comment):\n",
    "    l1 = set(get_stop_words('en'))\n",
    "    l2 = set(stopwords.words('english'))\n",
    "    stop_list = set(l1.union(l2))\n",
    "    n_stopword = sum([int(1) if x in stop_list else int(0) for x in str(comment).split()])\n",
    "    return n_stopword, stop_list\n",
    "\n",
    "# Function for counting number of negation in dataset\n",
    "def negation(comment):\n",
    "    neg_lists = []\n",
    "    negations = []\n",
    "    for j in list(comment):\n",
    "        lower = str(j).lower().split()\n",
    "        mark_neg = mark_negation(lower)\n",
    "        di = dict(zip(mark_neg,lower))\n",
    "        neg_list = [v for k,v in di.items() if '_NEG' in k]\n",
    "        neg_lists.extend(neg_list)\n",
    "        negation = [str(mark_neg).count('_NEG')]\n",
    "        negations.extend(negation)\n",
    "    count_neg_list = dict(zip(comment.index,negations))\n",
    "    return neg_lists, count_neg_list, negations\n",
    "\n",
    "# Function for counting number of puntuation in a comment\n",
    "def count_punctuation(comment):\n",
    "    punc_list = set(string.punctuation)\n",
    "    n_punc = sum([int(1) if x in punc_list else int(0) for x in str(comment).split()])\n",
    "    return n_punc, punc_list\n",
    "\n",
    "# Function for descriptive analysis:\n",
    "#     summation of number of numeric, characters, words, \n",
    "#     uppercase words, stop words, punctuation, and negation\n",
    "def descriptive_analysis(comment):\n",
    "    n_numerics = 0\n",
    "    n_chars = 0\n",
    "    n_words = 0\n",
    "    n_uppercases = 0\n",
    "    n_stopwords = 0\n",
    "    _, _, negations = negation(comment)\n",
    "    n_puncs = 0\n",
    "    n_negations = sum(negations)\n",
    "    for i in list(comment):\n",
    "        n_numerics = n_numerics + count_numeric(i)\n",
    "        n_chars = n_chars + count_character(i)\n",
    "        n_words = n_words + count_word(i)\n",
    "        n_uppercases = n_uppercases + count_uppercase(i)\n",
    "        n_stopword, _ = count_stopword(i)\n",
    "        n_stopwords = n_stopwords + n_stopword\n",
    "        n_punc, _ = count_punctuation(i)\n",
    "        n_puncs = n_puncs + n_punc\n",
    "    print('Descriptive analysis of training dataset')\n",
    "    print('Size = {:,} comments'.format(len(comment)))\n",
    "    print('Numer of numeric = {:,}'.format(n_numerics))\n",
    "    print('Numer of characters = {:,}'.format(n_chars))\n",
    "    print('Numer of words = {:,}'.format(n_words))\n",
    "    print('Numer of uppercases = {:,}'.format(n_uppercases))\n",
    "    print('Numer of stopwords = {:,}'.format(n_stopwords))\n",
    "    print('Numer of negations = {:,}'.format(n_negations))  \n",
    "    print('Numer of punctuations = {:,}'.format(n_puncs))\n",
    "    \n",
    "# Descriptive analysis of training dataset\n",
    "descriptive_analysis(comment = comment_train)"
   ]
  },
  {
   "cell_type": "markdown",
   "metadata": {},
   "source": [
    "## __Data Preprocessing__"
   ]
  },
  {
   "cell_type": "markdown",
   "metadata": {},
   "source": [
    "### 4.1 Removing stopwords and punctuations"
   ]
  },
  {
   "cell_type": "code",
   "execution_count": 10,
   "metadata": {},
   "outputs": [],
   "source": [
    "# Convert to lower case \n",
    "def lower(comment):\n",
    "    text = comment.str.lower()\n",
    "    return text\n",
    "\n",
    "# Remove stopwords\n",
    "def del_stopword(text):\n",
    "    _, stop_list = count_stopword(text)\n",
    "    stopword_list = list(stop_list)\n",
    "    text_del_stopword = []\n",
    "    for sentence in text:\n",
    "        resultwords = [word for word in sentence.split() if word not in stopword_list]\n",
    "        result = ' '.join(resultwords)\n",
    "        text_del_stopword.append(result)\n",
    "    return text_del_stopword\n",
    "\n",
    "# Remove punctuations\n",
    "def del_punc(text, text_del_stopword):\n",
    "    _, punc_list = count_punctuation(text)\n",
    "    punc_list = list(punc_list)\n",
    "    text_del_punc = []\n",
    "    for sentence in text_del_stopword:\n",
    "        text_del = []\n",
    "        for char in sentence:\n",
    "            resultwords = [word for word in char if word not in punc_list]\n",
    "            text_del.extend(resultwords)\n",
    "        text_del_punc.extend([''.join(text_del)])\n",
    "    return text_del_punc\n",
    "\n",
    "# Expand contracted words\n",
    "def expand_contract(text_del_punc):\n",
    "    CONTRACTION_MAP = contractions.contractions_dict\n",
    "    expanded = list(pd.Series(text_del_punc).replace(to_replace = CONTRACTION_MAP, regex=True))\n",
    "    return expanded\n",
    "\n",
    "# Cleaning text\n",
    "def clean_text(comment):\n",
    "    text = lower(comment)\n",
    "    text_del_stopword = del_stopword(text)\n",
    "    text_del_punc = del_punc(text, text_del_stopword)\n",
    "    cleaned_text = expand_contract(text_del_punc)\n",
    "    return cleaned_text\n",
    "\n",
    "cleaned_train = clean_text(comment_train)\n",
    "cleaned_val = clean_text(comment_val)\n",
    "cleaned_test = clean_text(comment_test)"
   ]
  },
  {
   "cell_type": "code",
   "execution_count": 11,
   "metadata": {},
   "outputs": [
    {
     "name": "stdout",
     "output_type": "stream",
     "text": [
      "Modern medical equipment, doctors, nurses perform treatment with intent. Excellent service\n",
      "modern medical equipment doctors nurses perform treatment intent excellent service\n"
     ]
    }
   ],
   "source": [
    "# Example comment_train vs cleaned_train\n",
    "print(comment_train.iloc[5])\n",
    "print(cleaned_train[5])"
   ]
  },
  {
   "cell_type": "markdown",
   "metadata": {},
   "source": [
    "### 4.2 Word tokenization"
   ]
  },
  {
   "cell_type": "code",
   "execution_count": 12,
   "metadata": {},
   "outputs": [],
   "source": [
    "# Set num_words=5000 to limit the maximum of tokenized words\n",
    "tokenizer = Tokenizer(num_words=5000)\n",
    "\n",
    "# Fit on text of training data set\n",
    "tokenizer.fit_on_texts(cleaned_train)\n",
    "\n",
    "# Tokenize all training, validation, and test data set\n",
    "token_train = tokenizer.texts_to_sequences(cleaned_train)\n",
    "token_val = tokenizer.texts_to_sequences(cleaned_val)\n",
    "token_test = tokenizer.texts_to_sequences(cleaned_test)\n",
    "\n",
    "# # Get index of word\n",
    "word_index = tokenizer.word_index"
   ]
  },
  {
   "cell_type": "code",
   "execution_count": 13,
   "metadata": {},
   "outputs": [
    {
     "name": "stdout",
     "output_type": "stream",
     "text": [
      "modern medical equipment doctors nurses perform treatment intent excellent service\n",
      "[121, 33, 302, 13, 10, 460, 9, 614, 122, 4]\n"
     ]
    }
   ],
   "source": [
    "# # Display one of token_train\n",
    "print(cleaned_train[5])\n",
    "print(token_train[5])"
   ]
  },
  {
   "cell_type": "code",
   "execution_count": 14,
   "metadata": {},
   "outputs": [
    {
     "name": "stdout",
     "output_type": "stream",
     "text": [
      "Number of vocabs: 2,127\n"
     ]
    }
   ],
   "source": [
    "# Display size of vocab\n",
    "vocab_size = len(tokenizer.word_index) + 1\n",
    "print('Number of vocabs: {:,}'.format(vocab_size))"
   ]
  },
  {
   "cell_type": "markdown",
   "metadata": {},
   "source": [
    "### 4.3 Padding sequence"
   ]
  },
  {
   "cell_type": "code",
   "execution_count": 15,
   "metadata": {},
   "outputs": [
    {
     "name": "stdout",
     "output_type": "stream",
     "text": [
      "[121  33 302  13  10 460   9 614 122   4   0   0   0   0   0   0   0   0\n",
      "   0   0   0   0   0   0   0   0   0   0   0   0   0   0   0   0   0   0\n",
      "   0   0   0   0   0   0   0   0   0   0   0   0   0   0   0   0   0   0\n",
      "   0   0   0   0   0   0   0   0   0   0   0   0   0   0   0   0   0   0\n",
      "   0   0   0   0   0   0   0   0   0   0   0   0   0   0   0   0   0   0\n",
      "   0   0   0   0   0   0   0   0   0   0   0   0   0   0   0   0   0   0\n",
      "   0   0   0   0   0   0   0   0   0   0   0   0   0   0   0   0   0   0\n",
      "   0   0   0   0   0   0   0   0   0   0   0   0   0   0   0   0   0   0\n",
      "   0   0   0   0   0   0   0   0   0   0   0   0   0   0   0   0   0   0\n",
      "   0   0   0   0   0   0   0   0   0   0   0   0   0   0   0   0   0   0\n",
      "   0   0   0   0   0   0   0   0   0   0   0   0   0   0   0   0   0   0\n",
      "   0   0   0   0   0   0   0   0   0   0   0   0   0   0   0   0   0   0\n",
      "   0   0   0   0   0   0   0   0   0   0   0   0   0   0   0   0   0   0\n",
      "   0   0   0   0   0   0   0   0   0   0   0   0   0   0   0   0   0   0\n",
      "   0   0   0   0   0   0   0   0   0   0   0   0   0   0   0   0   0   0\n",
      "   0   0   0   0   0   0   0   0   0   0   0   0   0   0   0   0   0   0\n",
      "   0   0   0   0   0   0   0   0   0   0   0   0   0   0   0   0   0   0\n",
      "   0   0   0   0   0   0   0   0   0   0   0   0   0   0   0   0   0   0\n",
      "   0   0   0   0   0   0   0   0   0   0   0   0   0   0   0   0   0   0\n",
      "   0   0   0   0   0   0   0   0   0   0   0   0   0   0   0   0   0]\n",
      "Maximum sequence of tokenized word: 359\n"
     ]
    }
   ],
   "source": [
    "# Limit number of word sequences to avoid problem of different length of words by prepending or appending zeros\n",
    "maxlen = len(max(token_train, key=len))\n",
    "\n",
    "X_train = pad_sequences(token_train, padding='post', maxlen=maxlen)\n",
    "X_val = pad_sequences(token_val, padding='post', maxlen=maxlen)\n",
    "X_test = pad_sequences(token_test, padding='post', maxlen=maxlen)\n",
    "\n",
    "print(X_train[5,])\n",
    "print('Maximum sequence of tokenized word: {}'.format(maxlen))"
   ]
  },
  {
   "cell_type": "code",
   "execution_count": 16,
   "metadata": {},
   "outputs": [],
   "source": [
    "# Data preparation for Sentiment Analysis\n",
    "df_sentiment = df\n",
    "X_comment = df_sentiment.loc[:,'comment_eng']\n",
    "y = df_sentiment.iloc[:,-2]\n",
    "cleaned = clean_text(X_comment)\n",
    "token = tokenizer.texts_to_sequences(cleaned)\n",
    "X = pad_sequences(token, padding='post', maxlen=maxlen)"
   ]
  },
  {
   "cell_type": "code",
   "execution_count": 17,
   "metadata": {},
   "outputs": [],
   "source": [
    "# Save numpy array for using in data modeling section\n",
    "file_name_dict = {'df_train': df_train, 'df_val':df_val, 'df_test':df_test, # Training, validation, and test dataframe without cleaning data\n",
    "                  'cleaned_train': cleaned_train, 'cleaned_val': cleaned_val, 'cleaned_test': cleaned_test, # Cleaned data by removing stopwords and punctuations\n",
    "                  'token_train': token_train, 'token_val': token_val, 'token_test': token_test, # Tokenized word\n",
    "                  'X_train': X_train, 'X_val': X_val, 'X_test': X_test, # Prepared data for use as training, validation, and test dataset\n",
    "                  'y_train': y_train, 'y_val': y_val, 'y_test': y_test,\n",
    "                  'word_index': word_index, # Index of each word after tokenization\n",
    "                  'vocab_size': vocab_size, # Number of vocab\n",
    "                  'df_sentiment':df_sentiment,'X_comment':X_comment,'cleaned':cleaned, 'token':token, 'X':X, 'y':y # Prepared data for sentiment analysis\n",
    "                 }\n",
    "\n",
    "utils.save_np(data_folder, file_name_dict)"
   ]
  },
  {
   "cell_type": "code",
   "execution_count": null,
   "metadata": {},
   "outputs": [],
   "source": []
  }
 ],
 "metadata": {
  "kernelspec": {
   "display_name": "Python 3",
   "language": "python",
   "name": "python3"
  },
  "language_info": {
   "codemirror_mode": {
    "name": "ipython",
    "version": 3
   },
   "file_extension": ".py",
   "mimetype": "text/x-python",
   "name": "python",
   "nbconvert_exporter": "python",
   "pygments_lexer": "ipython3",
   "version": "3.6.7"
  }
 },
 "nbformat": 4,
 "nbformat_minor": 2
}
