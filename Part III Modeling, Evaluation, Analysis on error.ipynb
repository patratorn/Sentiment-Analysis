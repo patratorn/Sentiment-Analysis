{
 "cells": [
  {
   "cell_type": "markdown",
   "metadata": {},
   "source": [
    "# __Part III: Data Modeling, Model Evaluaiton, and Analysis on Error__"
   ]
  },
  {
   "cell_type": "markdown",
   "metadata": {},
   "source": [
    "## __Import Libraries and Data__"
   ]
  },
  {
   "cell_type": "code",
   "execution_count": 1,
   "metadata": {},
   "outputs": [
    {
     "name": "stderr",
     "output_type": "stream",
     "text": [
      "Using TensorFlow backend.\n"
     ]
    }
   ],
   "source": [
    "import numpy as np\n",
    "import pandas as pd\n",
    "import time\n",
    "import itertools\n",
    "\n",
    "from keras.models import Sequential\n",
    "from keras import layers, backend as K, optimizers, regularizers\n",
    "from keras.callbacks import EarlyStopping, TerminateOnNaN\n",
    "from sklearn.utils import class_weight\n",
    "import tensorflow as tf\n",
    "import random\n",
    "\n",
    "import utils"
   ]
  },
  {
   "cell_type": "code",
   "execution_count": 2,
   "metadata": {},
   "outputs": [],
   "source": [
    "# Set dataframe display\n",
    "pd.set_option('display.max_columns', None)\n",
    "pd.set_option('display.expand_frame_repr', False)\n",
    "pd.set_option('display.max_colwidth', -1)"
   ]
  },
  {
   "cell_type": "code",
   "execution_count": 3,
   "metadata": {},
   "outputs": [],
   "source": [
    "# Define path of data\n",
    "data_folder = \"C:\\\\Users\\\\DoZoYo\\\\OneDrive - Mahidol University\\\\611 Advanced ML\\\\Sentiment Analysis\\\\data\\\\\""
   ]
  },
  {
   "cell_type": "code",
   "execution_count": 4,
   "metadata": {},
   "outputs": [
    {
     "name": "stdout",
     "output_type": "stream",
     "text": [
      "Number of vocab: 2,127\n"
     ]
    }
   ],
   "source": [
    "# Load training, validation, and test data set\n",
    "file_list = ['df_train', 'df_test', # Raw data\n",
    "             'cleaned_test', # Cleaned data\n",
    "             'X_train', 'X_val', 'X_test', 'X', # Tokenized and Paddded sequence data\n",
    "             'y_train', 'y_val', 'y_test', 'y', # y class\n",
    "             'word_index', 'vocab_size'\n",
    "            ]\n",
    "files = utils.load_np(data_folder, file_list)\n",
    "\n",
    "print('Number of vocab: {:,}'.format(files['vocab_size']))"
   ]
  },
  {
   "cell_type": "code",
   "execution_count": 5,
   "metadata": {},
   "outputs": [],
   "source": [
    "# Replace y with 0 if y_test is equal -1\n",
    "files['y_train'][files['y_train'] == -1] = 0\n",
    "files['y_val'][files['y_val'] == -1] = 0\n",
    "files['y_test'][files['y_test'] == -1] = 0\n",
    "files['y'][files['y'] == -1] = 0"
   ]
  },
  {
   "cell_type": "markdown",
   "metadata": {},
   "source": [
    "## __Model Tuning and Optimization__"
   ]
  },
  {
   "cell_type": "markdown",
   "metadata": {},
   "source": [
    "## 1 Prepare combinations for tuning hyperparameters"
   ]
  },
  {
   "cell_type": "markdown",
   "metadata": {},
   "source": [
    "### Create all possible combinations of hyperparameters for tuning model"
   ]
  },
  {
   "cell_type": "code",
   "execution_count": 6,
   "metadata": {},
   "outputs": [],
   "source": [
    "# Hyperparameters for tuning model\n",
    "\n",
    "vocab_size = [files['vocab_size'].tolist()]\n",
    "embedding_dim = [50,100]\n",
    "maxlen = [len(max(files['X_train'], key=len))]\n",
    "num_filters = [32,64,128]\n",
    "kernel_size = [3,4,5]\n",
    "batch_size = [16,32,128]\n",
    "n_epochs = [1000]"
   ]
  },
  {
   "cell_type": "code",
   "execution_count": 7,
   "metadata": {},
   "outputs": [
    {
     "name": "stdout",
     "output_type": "stream",
     "text": [
      "Number of combinations for tuining model is 54\n"
     ]
    }
   ],
   "source": [
    "# Create all combinations for tuning hyperparameters\n",
    "iterables = [vocab_size,\n",
    "             embedding_dim,\n",
    "             maxlen,\n",
    "             num_filters, \n",
    "             kernel_size,\n",
    "             batch_size,\n",
    "             n_epochs\n",
    "            ]\n",
    "\n",
    "hyper_params = []\n",
    "for t in itertools.product(*iterables):\n",
    "    hyper_params.append(t)\n",
    "\n",
    "print('Number of combinations for tuining model is {:,}'.format(len(hyper_params)))"
   ]
  },
  {
   "cell_type": "markdown",
   "metadata": {},
   "source": [
    "## 2 Create functions for model development"
   ]
  },
  {
   "cell_type": "code",
   "execution_count": 8,
   "metadata": {},
   "outputs": [],
   "source": [
    "# Function for computing weight to balancing classes\n",
    "def compute_class_wt(y):\n",
    "    class_weights = class_weight.compute_class_weight('balanced', np.unique(y), y)\n",
    "    return class_weights"
   ]
  },
  {
   "cell_type": "code",
   "execution_count": 9,
   "metadata": {},
   "outputs": [],
   "source": [
    "# Function for finding the epoch given the most appropriate weight\n",
    "def find_best_epoch(history_dataframe):\n",
    "    # Calculate different of accuracy between training and validation data set\n",
    "    history_dataframe['acc_dif'] = (history_dataframe['val_acc'] - history_dataframe['acc'])\n",
    "    \n",
    "    ### The principle follows as:\n",
    "    # 1.Finding epoch which give the maximum accuracy of validation\n",
    "    bb = history_dataframe[(history_dataframe['val_acc'] == history_dataframe['val_acc'].max())]\n",
    "\n",
    "    # 2.If there are multiple epochs given the maximum accuracy of validation, \n",
    "    #  finding epochs given the nearest accuracy of validation compared to the accuracy of training dataset\n",
    "    cc = bb[(bb['acc_dif'].abs() == bb['acc_dif'].abs().min())]\n",
    "\n",
    "    # 3.If it still remain more than one epochs, choose the first epoch of them\n",
    "    best_epoch = cc.drop_duplicates(subset=['val_acc', 'acc_dif'], keep=\"first\")\n",
    "    \n",
    "    return best_epoch"
   ]
  },
  {
   "cell_type": "code",
   "execution_count": 10,
   "metadata": {},
   "outputs": [],
   "source": [
    "# Function for create the sequential model\n",
    "def create_model(vocab_size, embedding_dim, maxlen,\n",
    "                 num_filters, kernel_size):\n",
    "    \n",
    "    model = Sequential()\n",
    "    \n",
    "    # Input layer\n",
    "    model.add(layers.Embedding(input_dim = int(vocab_size),\n",
    "                               output_dim = embedding_dim,\n",
    "                               input_length = int(maxlen)))\n",
    "    \n",
    "    # Hidden layers (1 Dropout(0.5) + 1 CNN + 1 GlobalMaxPool + 1 fully-connected(10 nodes))\n",
    "    model.add(layers.Dropout(0.5)) # To reduce overfitting\n",
    "        # After tuning model, the higher number of CNN layers didn't improve model performance\n",
    "        # Use CNN as feature extraction\n",
    "    model.add(layers.Conv1D(filters = int(num_filters),\n",
    "                            kernel_size = int(kernel_size),\n",
    "                            activation = 'relu'\n",
    "                           ))\n",
    "    model.add(layers.GlobalMaxPooling1D()) # To obtain the maximum vector of each feature\n",
    "    model.add(layers.Dense(10)) # After tuning model, the higher number of FC layers didn't improve model performance\n",
    "    \n",
    "    # Output layers\n",
    "    model.add(layers.Dense(1, activation = 'sigmoid'))\n",
    "    \n",
    "    opt = optimizers.Adam(lr=0.0005) # decrease learning rate because of a small size of data\n",
    "    model.compile(optimizer = opt,\n",
    "                  loss='binary_crossentropy',\n",
    "                  metrics=['accuracy'])\n",
    "    return model"
   ]
  },
  {
   "cell_type": "code",
   "execution_count": 11,
   "metadata": {},
   "outputs": [],
   "source": [
    "# Function for tuning hyperparameters and get the best model\n",
    "def tuning_model(hyper_params, X_train, y_train, class_wt, X_val, y_val):\n",
    "    \n",
    "    np.random.seed(30)  # Set seed number for Numpy\n",
    "    random.seed(30) # Set seed number for core Python\n",
    "    tf.set_random_seed(30) # Set seed number for TensorFlow backend\n",
    "    \n",
    "    # Define list functions to be applied in Callbacks\n",
    "    \n",
    "    # 1.Early stopping when val_loss is not reduced less than min_delta value\n",
    "    es1 = EarlyStopping(monitor='val_loss', mode='min', min_delta=0.0005, patience=15)\n",
    "    # 2.Early stopping when val_acc is not increased more than min_delta value\n",
    "    es2 = EarlyStopping(monitor='val_acc', mode='max', min_delta=0.01, patience=15)\n",
    "    # 3.Early stopping when loss is NaN\n",
    "    tn = TerminateOnNaN()\n",
    "    cb = [es1, es2, tn]\n",
    "\n",
    "    best_epoch_all_comb = []\n",
    "    loop_no = 0\n",
    "    \n",
    "    start = time.time()\n",
    "    for i in hyper_params:\n",
    "        np.random.seed(30)  # Set seed number for Numpy\n",
    "        random.seed(30) # Set seed number for core Python\n",
    "        tf.set_random_seed(30) # Set seed number for TensorFlow backend\n",
    "        \n",
    "        print('\\r Combination no.{}'.format(loop_no), end='')\n",
    "\n",
    "        t1 = time.time()\n",
    "        \n",
    "        model = create_model(vocab_size = int(i[0]), \n",
    "                             embedding_dim = int(i[1]), \n",
    "                             maxlen = int(i[2]),\n",
    "                             num_filters = int(i[3]), \n",
    "                             kernel_size = int(i[4])\n",
    "                            )\n",
    "\n",
    "        # Train model using training data set and validate with the validation data set\n",
    "        fit_model = model.fit(X_train, y_train, class_weight = class_wt,\n",
    "                              validation_data = (X_val, y_val),\n",
    "                              batch_size = int(i[5]), \n",
    "                              epochs = int(i[6]), \n",
    "                              verbose = False,\n",
    "                              callbacks = cb\n",
    "                             )\n",
    "\n",
    "        # Keep accuracy and loss values of the best epoch\n",
    "        history_dataframe = pd.DataFrame(fit_model.model.history.history)\n",
    "        best_epoch = find_best_epoch(history_dataframe)\n",
    "        best_epoch_all_comb.append(best_epoch.values.tolist()[0])\n",
    "\n",
    "        total_epoch = len(fit_model.epoch)\n",
    "        print(\"\\r [{}] End at {} epochs within: {:.2f} s\\n\".format(loop_no,total_epoch, (time.time()-t1)),end='')\n",
    "\n",
    "        loop_no +=1\n",
    "    \n",
    "    # Find the best set of hyperparameters\n",
    "    result = pd.DataFrame(best_epoch_all_comb, columns=['val_loss','val_acc','loss','acc','acc_dif'])\n",
    "    best_pat_fist = find_best_epoch(result)\n",
    "    best_pat_fist_ind = best_pat_fist.index[0]\n",
    "    best_param = hyper_params[best_pat_fist_ind]\n",
    "    \n",
    "    print('The best combination of hyperparameter is no. {}: {}'.format(best_pat_fist_ind, best_param))\n",
    "    \n",
    "    np.random.seed(30)  # Set seed number for Numpy\n",
    "    random.seed(30) # Set seed number for core Python\n",
    "    tf.set_random_seed(30) # Set seed number for TensorFlow backend\n",
    "    \n",
    "    # Fit the best model with the best combination of hyperparameters\n",
    "    \n",
    "    model = create_model(vocab_size = int(best_param[0]), \n",
    "                         embedding_dim = int(best_param[1]), \n",
    "                         maxlen = int(best_param[2]),\n",
    "                         num_filters = int(best_param[3]), \n",
    "                         kernel_size = int(best_param[4])\n",
    "                        )\n",
    "    \n",
    "    best_model = model.fit(X_train, y_train, class_weight = class_wt,\n",
    "                           validation_data = (X_val, y_val),\n",
    "                           batch_size = int(best_param[5]), \n",
    "                           epochs = int(best_param[6]), \n",
    "                           verbose = False,\n",
    "                           callbacks = cb\n",
    "                          )\n",
    "    \n",
    "    print(best_model.model.summary())\n",
    "    \n",
    "    # Comparison between accuracy and loss of training and validation learning\n",
    "    best_hist_df = pd.DataFrame(best_model.model.history.history)\n",
    "    best_hist_df[['acc','val_acc']].plot(ylim=(0,1.1), title='Accuracy (Training vs Validation)')\n",
    "    best_hist_df[['loss','val_loss']].plot(title='Loss (Training vs Validation)')\n",
    "    \n",
    "    # Evaluate the training, validation, and test data set\n",
    "    trn_loss, trn_accuracy = best_model.model.evaluate(X_train, y_train, verbose=False)\n",
    "    val_loss, val_accuracy = best_model.model.evaluate(X_val, y_val, verbose=False)\n",
    "    print(\"Average Training Accuracy:   {:.4f} | Average Loss: {:.4f}\".format(trn_accuracy,trn_loss))\n",
    "    print(\"Average Validation Accuracy: {:.4f} | Average Loss: {:.4f}\".format(val_accuracy,val_loss))\\\n",
    "\n",
    "    print(\"Process time: {:.2f} s\".format((time.time() - start)))\n",
    "    return result, best_model, best_hist_df"
   ]
  },
  {
   "cell_type": "markdown",
   "metadata": {},
   "source": [
    "## 3 Model tuning"
   ]
  },
  {
   "cell_type": "code",
   "execution_count": 12,
   "metadata": {},
   "outputs": [
    {
     "name": "stdout",
     "output_type": "stream",
     "text": [
      " [0] End at 31 epochs within: 8.48 s\n",
      " [1] End at 16 epochs within: 2.61 s\n",
      " [2] End at 19 epochs within: 2.07 s\n",
      " [3] End at 32 epochs within: 6.51 s\n",
      " [4] End at 16 epochs within: 2.77 s\n",
      " [5] End at 19 epochs within: 2.27 s\n",
      " [6] End at 35 epochs within: 7.24 s\n",
      " [7] End at 16 epochs within: 2.88 s\n",
      " [8] End at 19 epochs within: 2.44 s\n",
      " [9] End at 29 epochs within: 6.75 s\n",
      " [10] End at 16 epochs within: 3.25 s\n",
      " [11] End at 17 epochs within: 2.69 s\n",
      " [12] End at 28 epochs within: 6.91 s\n",
      " [13] End at 16 epochs within: 3.49 s\n",
      " [14] End at 17 epochs within: 2.91 s\n",
      " [15] End at 27 epochs within: 6.87 s\n",
      " [16] End at 16 epochs within: 3.66 s\n",
      " [17] End at 17 epochs within: 2.99 s\n",
      " [18] End at 26 epochs within: 7.55 s\n",
      " [19] End at 16 epochs within: 4.34 s\n",
      " [20] End at 17 epochs within: 3.59 s\n",
      " [21] End at 26 epochs within: 7.89 s\n",
      " [22] End at 32 epochs within: 7.23 s\n",
      " [23] End at 17 epochs within: 3.83 s\n",
      " [24] End at 26 epochs within: 8.26 s\n",
      " [25] End at 30 epochs within: 7.35 s\n",
      " [26] End at 17 epochs within: 4.19 s\n",
      " [27] End at 26 epochs within: 7.89 s\n",
      " [28] End at 33 epochs within: 6.98 s\n",
      " [29] End at 18 epochs within: 3.78 s\n",
      " [30] End at 26 epochs within: 8.14 s\n",
      " [31] End at 34 epochs within: 7.55 s\n",
      " [32] End at 18 epochs within: 4.09 s\n",
      " [33] End at 29 epochs within: 9.06 s\n",
      " [34] End at 16 epochs within: 4.77 s\n",
      " [35] End at 18 epochs within: 4.09 s\n",
      " [36] End at 30 epochs within: 10.09 s\n",
      " [37] End at 37 epochs within: 8.94 s\n",
      " [38] End at 17 epochs within: 4.55 s\n",
      " [39] End at 25 epochs within: 9.14 s\n",
      " [40] End at 31 epochs within: 8.39 s\n",
      " [41] End at 17 epochs within: 5.31 s\n",
      " [42] End at 25 epochs within: 9.84 s\n",
      " [43] End at 32 epochs within: 9.05 s\n",
      " [44] End at 17 epochs within: 5.47 s\n",
      " [45] End at 24 epochs within: 10.06 s\n",
      " [46] End at 29 epochs within: 9.36 s\n",
      " [47] End at 17 epochs within: 5.89 s\n",
      " [48] End at 25 epochs within: 11.12 s\n",
      " [49] End at 29 epochs within: 9.78 s\n",
      " [50] End at 17 epochs within: 6.00 s\n",
      " [51] End at 24 epochs within: 11.22 s\n",
      " [52] End at 28 epochs within: 10.53 s\n",
      " [53] End at 17 epochs within: 6.30 s\n",
      "The best combination of hyperparameter is no. 37: (2127, 100, 359, 64, 3, 32, 1000)\n",
      "_________________________________________________________________\n",
      "Layer (type)                 Output Shape              Param #   \n",
      "=================================================================\n",
      "embedding_55 (Embedding)     (None, 359, 100)          212700    \n",
      "_________________________________________________________________\n",
      "dropout_55 (Dropout)         (None, 359, 100)          0         \n",
      "_________________________________________________________________\n",
      "conv1d_55 (Conv1D)           (None, 357, 64)           19264     \n",
      "_________________________________________________________________\n",
      "global_max_pooling1d_55 (Glo (None, 64)                0         \n",
      "_________________________________________________________________\n",
      "dense_109 (Dense)            (None, 10)                650       \n",
      "_________________________________________________________________\n",
      "dense_110 (Dense)            (None, 1)                 11        \n",
      "=================================================================\n",
      "Total params: 232,625\n",
      "Trainable params: 232,625\n",
      "Non-trainable params: 0\n",
      "_________________________________________________________________\n",
      "None\n",
      "Average Training Accuracy:   0.9944 | Average Loss: 0.0445\n",
      "Average Validation Accuracy: 0.8655 | Average Loss: 0.4627\n",
      "Process time: 348.87 s\n"
     ]
    },
    {
     "data": {
      "image/png": "[encoded data removed]",
      "text/plain": [
       "<Figure size 432x288 with 1 Axes>"
      ]
     },
     "metadata": {
      "needs_background": "light"
     },
     "output_type": "display_data"
    },
    {
     "data": {
      "image/png": "[encoded data removed]",
      "text/plain": [
       "<Figure size 432x288 with 1 Axes>"
      ]
     },
     "metadata": {
      "needs_background": "light"
     },
     "output_type": "display_data"
    }
   ],
   "source": [
    "class_wt = compute_class_wt(files['y_train'])\n",
    "\n",
    "result, best_model, best_hist_df = tuning_model(hyper_params, files['X_train'], files['y_train'], class_wt, files['X_val'], files['y_val'])"
   ]
  },
  {
   "cell_type": "markdown",
   "metadata": {},
   "source": [
    "&emsp;&emsp; As a result the best model consists of <br>\n",
    "&emsp; 1. Input layer: Embedding layer with input=2127, embedding dimension=359, output=100 <br>\n",
    "&emsp; 2. Hidden layer: <br>\n",
    "&emsp;&emsp;&emsp;&emsp;1 Dropout(0.5) <br>\n",
    "&emsp;&emsp;&emsp;&emsp;1 convolution layer: 64 filters with 3 kernel <br>\n",
    "&emsp;&emsp;&emsp;&emsp;1 global max pooling <br>\n",
    "&emsp;&emsp;&emsp;&emsp;1 fully-connected layer with 10 nodes <br>\n",
    "&emsp; 3. Output layer: 1 fully-connected layers with 1 nodes, Adam optimizer, and 0.0005 learning rate. <br>"
   ]
  },
  {
   "cell_type": "markdown",
   "metadata": {},
   "source": [
    "&emsp;&emsp; According to the above graph, accuracy and loss of validation dataset conforms to those of training dataset over learning epochs. The average accuracy of training and validation are 99.44% and 86.55%, respectively. Whereas, the average loss of training and validation are 0.0445 and 0.4627, respectively.\n",
    "<br>\n",
    "&emsp;&emsp; However, during model learning, the loss of training dataset is decreasing more than those of validation, and the accuracy of training dataset is also higher than those of validation. It means that the model performs better on the training dataset compared to validation, so it could be overfitting to training dataset."
   ]
  },
  {
   "cell_type": "markdown",
   "metadata": {},
   "source": [
    "## __Model Performance Evaluation__"
   ]
  },
  {
   "cell_type": "code",
   "execution_count": 13,
   "metadata": {},
   "outputs": [
    {
     "data": {
      "image/png": "[encoded data removed]",
      "text/plain": [
       "<Figure size 432x288 with 2 Axes>"
      ]
     },
     "metadata": {
      "needs_background": "light"
     },
     "output_type": "display_data"
    },
    {
     "data": {
      "image/png": "[encoded data removed]",
      "text/plain": [
       "<Figure size 432x288 with 1 Axes>"
      ]
     },
     "metadata": {
      "needs_background": "light"
     },
     "output_type": "display_data"
    },
    {
     "data": {
      "image/png": "[encoded data removed]",
      "text/plain": [
       "<Figure size 432x288 with 1 Axes>"
      ]
     },
     "metadata": {
      "needs_background": "light"
     },
     "output_type": "display_data"
    }
   ],
   "source": [
    "# Evaluate performance model by predict class of test dataset\n",
    "y_pred = best_model.model.predict_classes(files['X_test'])\n",
    "y_prob = best_model.model.predict_proba(files['X_test'])\n",
    "confmat, fpr, tpr, auc, pr, recall, avg_precision = utils.evaluate_model(files['y_test'], y_pred, y_prob)"
   ]
  },
  {
   "cell_type": "markdown",
   "metadata": {},
   "source": [
    "&emsp;&emsp; As a result of model evaluation, the area under the ROC curve and precision-recall curve are 0.8443 and 0.9565, respectively. It means that the model could accurately discriminate between positive and negative class with 84.43%. Also, the model has 95.65% to correctly predict the positive class."
   ]
  },
  {
   "cell_type": "markdown",
   "metadata": {},
   "source": [
    "## __Analysis on Error__"
   ]
  },
  {
   "cell_type": "code",
   "execution_count": 14,
   "metadata": {},
   "outputs": [],
   "source": [
    "# Mapping word to X_test\n",
    "word_feed = utils.word_decode(files['word_index'], files['X_test'])"
   ]
  },
  {
   "cell_type": "code",
   "execution_count": 15,
   "metadata": {},
   "outputs": [
    {
     "name": "stdout",
     "output_type": "stream",
     "text": [
      "Number of false prediction\n",
      "            y_pred\n",
      "false_type        \n",
      "fn          11    \n",
      "fp          12    \n"
     ]
    },
    {
     "data": {
      "text/html": [
       "<div>\n",
       "<style scoped>\n",
       "    .dataframe tbody tr th:only-of-type {\n",
       "        vertical-align: middle;\n",
       "    }\n",
       "\n",
       "    .dataframe tbody tr th {\n",
       "        vertical-align: top;\n",
       "    }\n",
       "\n",
       "    .dataframe thead th {\n",
       "        text-align: right;\n",
       "    }\n",
       "</style>\n",
       "<table border=\"1\" class=\"dataframe\">\n",
       "  <thead>\n",
       "    <tr style=\"text-align: right;\">\n",
       "      <th></th>\n",
       "      <th>comment_th</th>\n",
       "      <th>comment_eng</th>\n",
       "      <th>score</th>\n",
       "      <th>y_test</th>\n",
       "      <th>hospital</th>\n",
       "      <th>cleaned_text</th>\n",
       "      <th>word_feed</th>\n",
       "      <th>y_pred</th>\n",
       "      <th>false_type</th>\n",
       "    </tr>\n",
       "  </thead>\n",
       "  <tbody>\n",
       "    <tr>\n",
       "      <th>10</th>\n",
       "      <td>ชอบโรงบาลนี้มากคะถึงจะรอนานก็เค้าใจเพราะคนไข้เยอะและมีอย่างนึ่งอยากขอไม่ต้องให้คนเข้ามาเดินขายของนะคะพอรอไม่ซื้อก็ด่า วันนี้กผ้เหมือนกันไม่รู้เค้าด่าเราหรือป่าว ตอนเราลงบันได้เลื่อยลงมาเค้าก็ลงตามมาด้วย เค้าก็พูดกับเพื่อนเค้าข้างหลังเราว่า ซื้อดอกเดียวก็ไม่ได้ไอพวกเหี้ยขี้งก เพราะเค้าก็มาขอให้เราซื้อเหมือนกัน ขอละนะคะ</td>\n",
       "      <td>I like this hospital very much. To wait for a long time, he is very patient because he has a lot of steaming things. Today, I don't know how to curse us. When we got down, he saw him down and followed him. He said to his friends behind us that Buy one flower, not a cough, bad guys Because he came to ask us to buy as well.</td>\n",
       "      <td>5</td>\n",
       "      <td>1</td>\n",
       "      <td>corpus_chula</td>\n",
       "      <td>like hospital much wait long time patient lot steaming things today know curse us got down saw followed him said friends behind us buy one flower cough bad guys came ask us buy well</td>\n",
       "      <td>like, hospital, much, wait, long, time, patient, lot, things, today, know, us, got, saw, followed, him, said, friends, behind, us, buy, one, bad, guys, came, ask, us, buy, well</td>\n",
       "      <td>-1</td>\n",
       "      <td>fn</td>\n",
       "    </tr>\n",
       "    <tr>\n",
       "      <th>15</th>\n",
       "      <td>มีระบบการจองคิวที่ดีค่ะ พยาบาลจะคอยแนะนำ ในครั้งแรกที่ไปทำประวัติ และแนะนำให้ไปคลินิคธรรมดาหากไม่ต้องการเสียค่าพบหมอแพง และคุณหมอพูดดีมากๆค่ะ ใจดี การให้บริการระหว่างรอคิวดี แต่อาจจะต้องรอคิวนานหน่อยควรไปตั้งแต่ตีห้าครึ่งเพื่อที่จะได้รับคิวและเพื่อให้ทันในการพบหมอ และคุณพยาบาลที่ทำการเรียกคิวมีการแนะนำว่าหากไม่ต้องการรอคิวนาน ให้ไปทำเรื่องที่ห้องฉุกเฉิน สำหรับผู้ที่ไม่สบาย ปวดหัวตัวร้อน ที่ไม่ต้องการรอคิวนาน</td>\n",
       "      <td>There is a good queue reservation system. Nurses will recommend The first time he made history And recommend to go to a regular clinic if you do not want to pay for the expensive doctor And the doctor said very well But may have to wait for a long time, should go from five and a half to get the queue and to keep up with the doctor And the nurse who calls the queue has suggested that if you don't want to wait for a long time To do the matter in the emergency room For those who are sick Headache and fever Who do not want to wait for a long time</td>\n",
       "      <td>4</td>\n",
       "      <td>1</td>\n",
       "      <td>corpus_chula</td>\n",
       "      <td>good queue reservation system nurses recommend first time made history recommend go regular clinic want pay expensive doctor doctor said well may wait long time go five half get queue keep doctor nurse calls queue suggested want wait long time matter emergency room sick headache fever want wait long time</td>\n",
       "      <td>good, queue, reservation, system, nurses, recommend, first, time, made, history, recommend, go, regular, clinic, want, pay, expensive, doctor, doctor, said, well, may, wait, long, time, go, half, get, queue, keep, doctor, nurse, calls, queue, want, wait, long, time, matter, emergency, room, sick, fever, want, wait, long, time</td>\n",
       "      <td>-1</td>\n",
       "      <td>fn</td>\n",
       "    </tr>\n",
       "    <tr>\n",
       "      <th>20</th>\n",
       "      <td>ไปหาหมอเนื่องจากฮอร์โมนไม่ปกติ ตอนแรกคิดว่าศิริราชจะต้องรอนานมากๆเนื่องจากใช้สิทธิ์บัตรทองแต่ปรากฎคือเดี๋ยวนี้โรงพยาบาลพัฒนาระบบดีมากๆ รอไม่ถึงชั่วโมงได้พบคุณหมอและรับยาภายในสามสิบนาทีหลังตรวจเสร็จ คุณหมอเก่งและให้คำแนะนำอย่างดี พยาบาลและเจ้าหน้าที่ให้การบริการและความช่วยเหลืออย่างเป็นระบบ ดีมากๆค่า ตอนแรกคิดว่าไปรักษาบัตรทองจะต้องรอทั้งวันและเจอบริการไม่ดี ศิริราชสมัยนี้ลบล้างความเชื่อเก่าๆได้อย่างหมดจรดค่ะ</td>\n",
       "      <td>Go to the doctor because of abnormal hormones At first I thought that Siriraj had to wait a long time because of the gold card rights, but it appears that now the hospital has developed a very good system. Wait for less than an hour to see a doctor and receive the medicine within thirty minutes after the examination is completed. Dr. Weng and give good advice Nurses and staff provide a very systematic and helpful service and assistance. At first, thinking of going to the gold card to wait for the whole day and encounter bad service. Siriraj nowadays has completely erased old beliefs.</td>\n",
       "      <td>5</td>\n",
       "      <td>1</td>\n",
       "      <td>corpus_siriraj</td>\n",
       "      <td>go doctor abnormal hormones first thought siriraj wait long time gold card rights appears hospital developed good system wait less hour see doctor receive medicine within thirty minutes examination completed dr weng give good advice nurses staff provide systematic helpful service assistance first thinking going gold card wait whole day encounter bad service siriraj nowadays completely erased old beliefs</td>\n",
       "      <td>go, doctor, first, thought, siriraj, wait, long, time, gold, card, rights, appears, hospital, developed, good, system, wait, less, hour, see, doctor, receive, medicine, within, minutes, examination, completed, dr, weng, give, good, advice, nurses, staff, provide, service, first, thinking, going, gold, card, wait, whole, day, bad, service, siriraj, completely, old</td>\n",
       "      <td>-1</td>\n",
       "      <td>fn</td>\n",
       "    </tr>\n",
       "    <tr>\n",
       "      <th>30</th>\n",
       "      <td>เจ้าหน้าที่ประกันสังคมบริการดีมาก น่ารักใจดี พยาบาลสวย ใจดีทุกคน ห้องแอร์ก็เย็น คิดว่านอนโรงแรม555 ส่วนตัวผมชอบมาก บริการทุกระดับประทับใจต้องศิริราช รอตรวจรอผลเลือด สรุปเป็น ลำไส้อักเสบ นอนไปครึ่งวันกลับบ้านได้</td>\n",
       "      <td>Social security staff, service is very good, lovely, kind, amiable, pretty, kind, everyone. Aircon room is cool. Think of sleeping hotel 555 Personally, I like very much. All levels of service are impressive. Must be Siriraj. Waiting to wait for the blood results to be concluded as an inflammatory bowel, sleeping half a day back home.</td>\n",
       "      <td>5</td>\n",
       "      <td>1</td>\n",
       "      <td>corpus_siriraj</td>\n",
       "      <td>social security staff service good lovely kind amiable pretty kind everyone aircon room cool think sleeping hotel 555 personally like much levels service impressive must siriraj waiting wait blood results concluded inflammatory bowel sleeping half day back home</td>\n",
       "      <td>social, security, staff, service, good, lovely, kind, pretty, kind, everyone, room, cool, think, sleeping, 555, personally, like, much, levels, service, impressive, must, siriraj, waiting, wait, blood, results, concluded, bowel, sleeping, half, day, back, home</td>\n",
       "      <td>-1</td>\n",
       "      <td>fn</td>\n",
       "    </tr>\n",
       "    <tr>\n",
       "      <th>41</th>\n",
       "      <td>ผู้เฒ่าผู้แก่มานั่งรอประตูเปิดเวลา 6โมงเช้าพอประตูเปิดทุกคนวิ่งเพียงเพื่อเอาบัตรที่นัดไปเสียบแต่ไม่ใช่ที่1กับเป็นที่เท่าไรไม่รู้มีบัตรนัดเสียบอยู่แล้วเป็นสิบ. อยากทราบเกิดอะไรขึ้นมานั่งรอตี5 เป็นญาติคนไข้ค่ะแก่วิ่งไม่ได้ ผู้ใหญ่ของโรงบาลลองไปดูตอน6โมงเช้าซิค่ะว่าเค้าวิ่งเหมือนหนีตายกันจริงๆ5555วิ่งไปเสียบบัตรค่ะ</td>\n",
       "      <td>The elders come to sit and wait for the door to open. 6 o'clock in the morning, when the door is open, everyone runs, just to take the card that is set to be plugged in, but not the 1st place and where it is. Want to know what happened to sit and wait 5? Is a relative of a patient, old, can't run The adult of the hospital tried to see it at 6 o'clock in the morning. He said that he actually ran like a dead man.</td>\n",
       "      <td>4</td>\n",
       "      <td>1</td>\n",
       "      <td>corpus_chula</td>\n",
       "      <td>elders come sit wait door open 6 oclock morning door open everyone runs take card set plugged in 1st place is want know happened sit wait 5 relative patient old run adult hospital tried see 6 oclock morning said actually ran like dead man</td>\n",
       "      <td>come, sit, wait, door, open, 6, oclock, morning, door, open, everyone, runs, take, card, set, in, 1st, place, is, want, know, sit, wait, 5, relative, patient, old, run, adult, hospital, see, 6, oclock, morning, said, actually, like, dead</td>\n",
       "      <td>-1</td>\n",
       "      <td>fn</td>\n",
       "    </tr>\n",
       "    <tr>\n",
       "      <th>42</th>\n",
       "      <td>ดีครับรพ.ต่างจังหวัดแย่มากๆลูกสาวป่วยแต่อายุ9ขวบตอนนี้22แล้วไปกลับทุกๆ3เดือน</td>\n",
       "      <td>Well, the provincial hospital is very bad. The daughter is sick but is 9 years old. Now 22 and go back every 3 months.</td>\n",
       "      <td>5</td>\n",
       "      <td>1</td>\n",
       "      <td>corpus_rama</td>\n",
       "      <td>well provincial hospital bad daughter sick 9 years old 22 go back every 3 months</td>\n",
       "      <td>well, provincial, hospital, bad, daughter, sick, 9, years, old, 22, go, back, every, 3, months</td>\n",
       "      <td>-1</td>\n",
       "      <td>fn</td>\n",
       "    </tr>\n",
       "    <tr>\n",
       "      <th>68</th>\n",
       "      <td>พยาบาลพูดจาไม่ค่อยจะดีเท่าไหร่ ไม่รุ้จักว่าใครคือคนที่จะเคารพหรือไม่ คนแก่ชราก้อด่าเค้าเกินไป</td>\n",
       "      <td>The nurse spoke very poorly. Do not know who is the person who will respect or not Old people scold him too</td>\n",
       "      <td>5</td>\n",
       "      <td>1</td>\n",
       "      <td>corpus_rama</td>\n",
       "      <td>nurse spoke poorly know person respect old people scold</td>\n",
       "      <td>nurse, spoke, poorly, know, person, old, people</td>\n",
       "      <td>-1</td>\n",
       "      <td>fn</td>\n",
       "    </tr>\n",
       "    <tr>\n",
       "      <th>73</th>\n",
       "      <td>ไว้ใจใช้บริการมา20กว่าปีแล้วคะแต่การเจอะเลือดคิวยาวมากรอนานโดยเฉพาะชั้น4แต่โดยรวมดีมากคะ</td>\n",
       "      <td>Trusting to use the service for over 20 years, but the blood queue is very long, waiting for a long time, especially the 4th floor, but overall very good.</td>\n",
       "      <td>5</td>\n",
       "      <td>1</td>\n",
       "      <td>corpus_chula</td>\n",
       "      <td>trusting use service 20 years blood queue long waiting long time especially 4th floor overall good</td>\n",
       "      <td>trusting, use, service, 20, years, blood, queue, long, waiting, long, time, especially, 4th, floor, overall, good</td>\n",
       "      <td>-1</td>\n",
       "      <td>fn</td>\n",
       "    </tr>\n",
       "    <tr>\n",
       "      <th>76</th>\n",
       "      <td>ยังไม่เคยรับบริการ เนื่องจากการเดินทางไม่สะดวก แต่ได้ชมรายการครบรอบ 100 ปี โรงพยาบาลจุฬาลงกรณ์ ได้รับทราบถึงการพัฒนาทางการแพทย์และอุปกรณ์การแพทย์ ที่ทันสมัยมาก</td>\n",
       "      <td>Have never received service Due to inconvenient travel But watched the 100th anniversary program of Chulalongkorn Hospital Acknowledged the development of medical and medical devices Very modern</td>\n",
       "      <td>5</td>\n",
       "      <td>1</td>\n",
       "      <td>corpus_chula</td>\n",
       "      <td>never received service due inconvenient travel watched 100th anniversary program chulalongkorn hospital acknowledged development medical medical devices modern</td>\n",
       "      <td>never, received, service, due, inconvenient, travel, watched, chulalongkorn, hospital, medical, medical, modern</td>\n",
       "      <td>-1</td>\n",
       "      <td>fn</td>\n",
       "    </tr>\n",
       "    <tr>\n",
       "      <th>89</th>\n",
       "      <td>ผู้ป่วยบางคน จะตายไม่ตายแลแต่หมอบอกว่าไม่เป็นอะไร ตรวจหาสาเหตุไม่เจอ ไปก็หลายโรงพยาบาลเสียเงินทองก็มากมาย ทุกที่หมอก็บอกว่าไม่เป็นอะไร ถ้าหมดที่ไปแล้วลองคุยกับหนูได้นะครับ</td>\n",
       "      <td>Some patients will die and not die, but the doctor says nothing. Can't detect the cause Went to many hospitals and lost a lot of money Everywhere the doctor said that it was nothing. If you go out and try talking to me</td>\n",
       "      <td>4</td>\n",
       "      <td>1</td>\n",
       "      <td>corpus_chula</td>\n",
       "      <td>patients die die doctor says nothing detect cause went many hospitals lost lot money everywhere doctor said nothing go try talking</td>\n",
       "      <td>patients, die, die, doctor, says, nothing, detect, cause, went, many, hospitals, lost, lot, money, everywhere, doctor, said, nothing, go, try, talking</td>\n",
       "      <td>-1</td>\n",
       "      <td>fn</td>\n",
       "    </tr>\n",
       "    <tr>\n",
       "      <th>94</th>\n",
       "      <td>โรงพยาบาลจุฬาฯคือสุดยอดผู้เชี่ยวชาญในเรื่องโรคหัวใจ เด็กเล็กเด็กอ่อนแค่ไหนก็สามารถผ่าตัดช่วยได้ ขอบคุณที่ช่วยชีวิตลูกชาย ให้เราได้ลูกชายที่แข็งแรงกลับมา ขอบคุณจากใจค่ะ</td>\n",
       "      <td>Chula Hospital is the ultimate expert in heart disease. Young children, little children can help with surgery. Thank you for saving your son's life. Let us have a strong son back. Thank you from your heart</td>\n",
       "      <td>5</td>\n",
       "      <td>1</td>\n",
       "      <td>corpus_chula</td>\n",
       "      <td>chula hospital ultimate expert heart disease young children little children help surgery thank saving sons life let us strong son back thank heart</td>\n",
       "      <td>chula, hospital, expert, heart, disease, young, children, little, children, help, surgery, thank, life, let, us, strong, son, back, thank, heart</td>\n",
       "      <td>-1</td>\n",
       "      <td>fn</td>\n",
       "    </tr>\n",
       "    <tr>\n",
       "      <th>95</th>\n",
       "      <td>จะกี่ครั้ง จะกี่หน ต้องใช้ความอดทน และ ทำใจ ทุกครั้งที่มา ไม่ว่าตะพยายามคิดในแง่ดีแค่ไหนก็ไม่สามารถ ทำให้ความรู้สึกดีขึ้นเลย ได้แต่คิดผิดที่กู เสือกมาที่นี่เอง ก็รู้ว่าไม่ได้มีเพียงแต่เรา ทุกคนก็ใช้ความอดทนแต่ตลอดปีกว่าที่เพียรมารักษาที่นี่ จากความหวัง กลายเป็นความฝังใจและฝังยันรากลึก ในแง่ลบ มากๆๆๆๆๆๆๆ</td>\n",
       "      <td>How many times will you need to use patience and make every time you come? No matter how good you try to think about, you can't. Makes the feeling better Can only think wrong at me It's here. Knew that there was not only us Everyone used patience, but throughout the years, he persevered here, from hope, becoming buried and deeply rooted in very negative roots.</td>\n",
       "      <td>2</td>\n",
       "      <td>-1</td>\n",
       "      <td>corpus_chula</td>\n",
       "      <td>many times need use patience make every time come matter good try think about cant makes feeling better think wrong here knew us everyone used patience throughout years persevered here hope becoming buried deeply rooted negative roots</td>\n",
       "      <td>many, times, need, use, make, every, time, come, matter, good, try, think, cant, makes, feeling, better, think, wrong, here, knew, us, everyone, used, throughout, years, here, hope, buried</td>\n",
       "      <td>1</td>\n",
       "      <td>fp</td>\n",
       "    </tr>\n",
       "    <tr>\n",
       "      <th>96</th>\n",
       "      <td>พ่อผมไม่สบาย</td>\n",
       "      <td>My father is sick</td>\n",
       "      <td>1</td>\n",
       "      <td>-1</td>\n",
       "      <td>corpus_rama</td>\n",
       "      <td>father sick</td>\n",
       "      <td>father, sick</td>\n",
       "      <td>1</td>\n",
       "      <td>fp</td>\n",
       "    </tr>\n",
       "    <tr>\n",
       "      <th>98</th>\n",
       "      <td>พาแฟนมาผ่าตัดครั้งที่ 2 โดยไม่เคยรู้จักใครมาก่อนที่จะเข้ามา... ได้รับบริการมาตรฐานเท่าเทียม และเสมอภาพนะ พยาบาบตึกเจริญ-สมศรีทำหน้าที่ได้ประทับใจค่ะ</td>\n",
       "      <td>Take the girlfriend to surgery for the second time without ever knowing anyone before coming in ... Received equal standard service and always images. Payabab, Chareon-Somsri Building. Impressed.</td>\n",
       "      <td>1</td>\n",
       "      <td>-1</td>\n",
       "      <td>corpus_chula</td>\n",
       "      <td>take girlfriend surgery second time without ever knowing anyone coming  received equal standard service always images payabab chareonsomsri building impressed</td>\n",
       "      <td>take, girlfriend, surgery, second, time, without, ever, anyone, coming, received, equal, standard, service, always, building, impressed</td>\n",
       "      <td>1</td>\n",
       "      <td>fp</td>\n",
       "    </tr>\n",
       "    <tr>\n",
       "      <th>99</th>\n",
       "      <td>ผมเป็นเจ้าหน้าที่ รพ.ราชบุรี /ศ.referจุฬาฯ ตอนเวลา 13.20 น.ของวันนี้ เจ้าหน้าที่ผู้หญิงที่รับสายจาก รพ.ราชบุรี ช่วยพูดเพราะๆหน่อยนะครับ ไม่ต้องพูดแดกดันเสียงดัง รู้พวกท่านกำลังยุ่งมาก เอกสารrefer ที่จะส่งไปมันเป็น ผู้หญิงที่ท้องได้ 24 สัปดาห์ + กับท้องแฝดด้วย มีท้องแข็ง ปัสสวะแสบขัด ลูกดิ้น พวกท่านช่วยรับได้มั้ย แล้วก็ช่วยประสานงานด้วยคงไม่ได้เป็นภาระมากมายนะครับ</td>\n",
       "      <td>I am an officer of the Ratchaburi Hospital / Prof. Chulalongkorn University. At 13.20 hrs., Today, the female staff who pick up the call from Ratchaburi Hospital help to speak because of me. Don't have to say ironically loudly Knowing that you are very busy. The referral documents that are sent. A woman who has 24 weeks of stomachs + with twin stomachs with stiff breasts. Can you help me get it? And then help coordinate with, probably not a lot of burden</td>\n",
       "      <td>1</td>\n",
       "      <td>-1</td>\n",
       "      <td>corpus_chula</td>\n",
       "      <td>officer ratchaburi hospital  prof chulalongkorn university 1320 hrs today female staff pick call ratchaburi hospital help speak me say ironically loudly knowing busy referral documents sent woman 24 weeks stomachs  twin stomachs stiff breasts help get it help coordinate with probably lot burden</td>\n",
       "      <td>officer, hospital, prof, chulalongkorn, university, hrs, today, female, staff, pick, call, hospital, help, speak, me, say, busy, documents, sent, weeks, help, get, it, help, coordinate, probably, lot, burden</td>\n",
       "      <td>1</td>\n",
       "      <td>fp</td>\n",
       "    </tr>\n",
       "    <tr>\n",
       "      <th>103</th>\n",
       "      <td>ปรับปรุงการเรียกคิวหน่อย</td>\n",
       "      <td>Improve call queue</td>\n",
       "      <td>1</td>\n",
       "      <td>-1</td>\n",
       "      <td>corpus_chula</td>\n",
       "      <td>improve call queue</td>\n",
       "      <td>improve, call, queue</td>\n",
       "      <td>1</td>\n",
       "      <td>fp</td>\n",
       "    </tr>\n",
       "    <tr>\n",
       "      <th>104</th>\n",
       "      <td>คุณแม่ ต้องตรวจจากแพทย์หลายท่าน และแต่ละท่านไม่เชื่อมโยงข้อมูลกัน ทำให้ต้องไป รพ ตามนัด หลายครั้งมากครับ</td>\n",
       "      <td>Mothers must check from many doctors. And each of them does not link to each other, causing to have to go to the hospital for many times</td>\n",
       "      <td>2</td>\n",
       "      <td>-1</td>\n",
       "      <td>corpus_siriraj</td>\n",
       "      <td>mothers must check many doctors link other causing go hospital many times</td>\n",
       "      <td>mothers, must, check, many, doctors, other, causing, go, hospital, many, times</td>\n",
       "      <td>1</td>\n",
       "      <td>fp</td>\n",
       "    </tr>\n",
       "    <tr>\n",
       "      <th>105</th>\n",
       "      <td>ไปจนมีความรู้สึกเป็นบ้านอีกหลัง_ไปบ่อยซะจนเหนื่อย แต่! ก็ต้องไป</td>\n",
       "      <td>Until there was a feeling of being back home often, so tired! Must go</td>\n",
       "      <td>2</td>\n",
       "      <td>-1</td>\n",
       "      <td>corpus_chula</td>\n",
       "      <td>feeling back home often tired must go</td>\n",
       "      <td>feeling, back, home, often, tired, must, go</td>\n",
       "      <td>1</td>\n",
       "      <td>fp</td>\n",
       "    </tr>\n",
       "    <tr>\n",
       "      <th>109</th>\n",
       "      <td>คุณหมอเข้าของไข้ผ่าตัดดี แต่นศพ ดึงสายเลือดออก จึงต้องทำให้ผ่ารอบสอง ต้องโทรหาอาจารย์ตลอดการผ่า รอดตายมาได้ จนทำให้คอเป็นถึงทุกวันนี้ คอยึด คอตึง กลืนยาเม็ดใหญ่ไม่ได้ พยาบาลแผนกคอนิสัยน่ารักแต่แผนงรังสี หมอดีค่ะ ให้คำปรึกษาดี ทุกอย่างโอเคหมด แย่ตรงผ่าคอรอบสองครั้งนั้นค่ะ จนเป็นปีแล้ว คอก็ไม่ดีขึ้นค่ะ</td>\n",
       "      <td>The doctor entered the surgical fever well, but the body pulled out the blood line. Therefore having to make a second round Had to call the teacher throughout the operation to survive until the neck is today The nurse in the neck department is cute, but the radiation plan is good. Everything is ok. Poor in the neck, around that time, until a year, then the neck is not better.</td>\n",
       "      <td>1</td>\n",
       "      <td>-1</td>\n",
       "      <td>corpus_siriraj</td>\n",
       "      <td>doctor entered surgical fever well body pulled blood line therefore make second round call teacher throughout operation survive neck today nurse neck department cute radiation plan good everything ok poor neck around time year neck better</td>\n",
       "      <td>doctor, entered, surgical, fever, well, body, blood, line, therefore, make, second, call, teacher, throughout, survive, neck, today, nurse, neck, department, cute, radiation, plan, good, everything, ok, poor, neck, around, time, year, neck, better</td>\n",
       "      <td>1</td>\n",
       "      <td>fp</td>\n",
       "    </tr>\n",
       "    <tr>\n",
       "      <th>110</th>\n",
       "      <td>ปรับปรุงเรื่องการบริการของพยาบาลด้วยนะคะ</td>\n",
       "      <td>Improve the nursing service too.</td>\n",
       "      <td>2</td>\n",
       "      <td>-1</td>\n",
       "      <td>corpus_rama</td>\n",
       "      <td>improve nursing service too</td>\n",
       "      <td>improve, nursing, service, too</td>\n",
       "      <td>1</td>\n",
       "      <td>fp</td>\n",
       "    </tr>\n",
       "    <tr>\n",
       "      <th>111</th>\n",
       "      <td>ใช้เวลานานในทุกจุดที่ไปติดต่อ รวมถึงข้อจำกัดเกี่ยวกับยาที่ใช่ระหว่างรพ.เอกชน &amp; รพ.ของรัฐ</td>\n",
       "      <td>It takes a long time in every point of contact. Including restrictions on drugs that are not between private hospitals and public hospitals</td>\n",
       "      <td>2</td>\n",
       "      <td>-1</td>\n",
       "      <td>corpus_chula</td>\n",
       "      <td>takes long time every point contact including restrictions drugs private hospitals public hospitals</td>\n",
       "      <td>takes, long, time, every, point, contact, including, drugs, private, hospitals, public, hospitals</td>\n",
       "      <td>1</td>\n",
       "      <td>fp</td>\n",
       "    </tr>\n",
       "    <tr>\n",
       "      <th>117</th>\n",
       "      <td>นานเกิ๊น</td>\n",
       "      <td>Nung Goan</td>\n",
       "      <td>1</td>\n",
       "      <td>-1</td>\n",
       "      <td>corpus_chula</td>\n",
       "      <td>nung goan</td>\n",
       "      <td></td>\n",
       "      <td>1</td>\n",
       "      <td>fp</td>\n",
       "    </tr>\n",
       "    <tr>\n",
       "      <th>118</th>\n",
       "      <td>ดิฉันต้องการติดต่อฝ่ายเบิกจ่ายตรง ซึ่งเบอร์ที่ได้มาเป็นการคลัง เมื่อโทรไปผู้หญิงรับแล้วก่อนที่จะต่อสายให้ พูดแทรกในโทรศัพท์ #น่าเบื่อว่ะ. พูดมาได้ยังไง คุณพูดกับใคร หรือบ่นเองดิฉันไม่รู้ แต่เป็นสิ่งที่ไม่ควรทำในอาชีพบริการนะคะ โทรมาหาดิฉันได้ค่ะ080-611-0369 ไม่ประทับตั้งแต่ครั้งแรก</td>\n",
       "      <td>I want to contact the disbursement department directly. Which the number that has been acquired as a finance When calling to a woman before receiving the call Insert in phone # Boring. How can you speak? You speak to someone or complain. I don't know. But it is something that should not be done in the service profession Call me. 080-611-0369 Not stamped from the first time</td>\n",
       "      <td>1</td>\n",
       "      <td>-1</td>\n",
       "      <td>corpus_rama</td>\n",
       "      <td>want contact disbursement department directly number acquired finance calling woman receiving call insert phone  boring speak speak someone complain know something done service profession call me 0806110369 stamped first time</td>\n",
       "      <td>want, contact, department, directly, number, finance, calling, receiving, call, insert, phone, boring, speak, speak, someone, know, something, done, service, profession, call, me, first, time</td>\n",
       "      <td>1</td>\n",
       "      <td>fp</td>\n",
       "    </tr>\n",
       "  </tbody>\n",
       "</table>\n",
       "</div>"
      ],
      "text/plain": [
       "                                                                                                                                                                                                                                                                                                                                                                                                                      comment_th                                                                                                                                                                                                                                                                                                                                                                                                                                                                                                                                                                                                     comment_eng score y_test        hospital                                                                                                                                                                                                                                                                                                                                                                                                            cleaned_text                                                                                                                                                                                                                                                                                                                                                                      word_feed  y_pred false_type\n",
       "10   ชอบโรงบาลนี้มากคะถึงจะรอนานก็เค้าใจเพราะคนไข้เยอะและมีอย่างนึ่งอยากขอไม่ต้องให้คนเข้ามาเดินขายของนะคะพอรอไม่ซื้อก็ด่า วันนี้กผ้เหมือนกันไม่รู้เค้าด่าเราหรือป่าว ตอนเราลงบันได้เลื่อยลงมาเค้าก็ลงตามมาด้วย เค้าก็พูดกับเพื่อนเค้าข้างหลังเราว่า ซื้อดอกเดียวก็ไม่ได้ไอพวกเหี้ยขี้งก เพราะเค้าก็มาขอให้เราซื้อเหมือนกัน ขอละนะคะ                                                                                              I like this hospital very much. To wait for a long time, he is very patient because he has a lot of steaming things. Today, I don't know how to curse us. When we got down, he saw him down and followed him. He said to his friends behind us that Buy one flower, not a cough, bad guys Because he came to ask us to buy as well.                                                                                                                                                                                                                                                                             5     1      corpus_chula    like hospital much wait long time patient lot steaming things today know curse us got down saw followed him said friends behind us buy one flower cough bad guys came ask us buy well                                                                                                                                                                                                                                   like, hospital, much, wait, long, time, patient, lot, things, today, know, us, got, saw, followed, him, said, friends, behind, us, buy, one, bad, guys, came, ask, us, buy, well                                                                                                                                                                                              -1       fn       \n",
       "15   มีระบบการจองคิวที่ดีค่ะ พยาบาลจะคอยแนะนำ ในครั้งแรกที่ไปทำประวัติ และแนะนำให้ไปคลินิคธรรมดาหากไม่ต้องการเสียค่าพบหมอแพง และคุณหมอพูดดีมากๆค่ะ ใจดี การให้บริการระหว่างรอคิวดี แต่อาจจะต้องรอคิวนานหน่อยควรไปตั้งแต่ตีห้าครึ่งเพื่อที่จะได้รับคิวและเพื่อให้ทันในการพบหมอ และคุณพยาบาลที่ทำการเรียกคิวมีการแนะนำว่าหากไม่ต้องการรอคิวนาน ให้ไปทำเรื่องที่ห้องฉุกเฉิน สำหรับผู้ที่ไม่สบาย ปวดหัวตัวร้อน ที่ไม่ต้องการรอคิวนาน  There is a good queue reservation system. Nurses will recommend The first time he made history And recommend to go to a regular clinic if you do not want to pay for the expensive doctor And the doctor said very well But may have to wait for a long time, should go from five and a half to get the queue and to keep up with the doctor And the nurse who calls the queue has suggested that if you don't want to wait for a long time To do the matter in the emergency room For those who are sick Headache and fever Who do not want to wait for a long time                                            4     1      corpus_chula    good queue reservation system nurses recommend first time made history recommend go regular clinic want pay expensive doctor doctor said well may wait long time go five half get queue keep doctor nurse calls queue suggested want wait long time matter emergency room sick headache fever want wait long time                                                                                                       good, queue, reservation, system, nurses, recommend, first, time, made, history, recommend, go, regular, clinic, want, pay, expensive, doctor, doctor, said, well, may, wait, long, time, go, half, get, queue, keep, doctor, nurse, calls, queue, want, wait, long, time, matter, emergency, room, sick, fever, want, wait, long, time                                       -1       fn       \n",
       "20   ไปหาหมอเนื่องจากฮอร์โมนไม่ปกติ ตอนแรกคิดว่าศิริราชจะต้องรอนานมากๆเนื่องจากใช้สิทธิ์บัตรทองแต่ปรากฎคือเดี๋ยวนี้โรงพยาบาลพัฒนาระบบดีมากๆ รอไม่ถึงชั่วโมงได้พบคุณหมอและรับยาภายในสามสิบนาทีหลังตรวจเสร็จ คุณหมอเก่งและให้คำแนะนำอย่างดี พยาบาลและเจ้าหน้าที่ให้การบริการและความช่วยเหลืออย่างเป็นระบบ ดีมากๆค่า ตอนแรกคิดว่าไปรักษาบัตรทองจะต้องรอทั้งวันและเจอบริการไม่ดี ศิริราชสมัยนี้ลบล้างความเชื่อเก่าๆได้อย่างหมดจรดค่ะ  Go to the doctor because of abnormal hormones At first I thought that Siriraj had to wait a long time because of the gold card rights, but it appears that now the hospital has developed a very good system. Wait for less than an hour to see a doctor and receive the medicine within thirty minutes after the examination is completed. Dr. Weng and give good advice Nurses and staff provide a very systematic and helpful service and assistance. At first, thinking of going to the gold card to wait for the whole day and encounter bad service. Siriraj nowadays has completely erased old beliefs.  5     1      corpus_siriraj  go doctor abnormal hormones first thought siriraj wait long time gold card rights appears hospital developed good system wait less hour see doctor receive medicine within thirty minutes examination completed dr weng give good advice nurses staff provide systematic helpful service assistance first thinking going gold card wait whole day encounter bad service siriraj nowadays completely erased old beliefs  go, doctor, first, thought, siriraj, wait, long, time, gold, card, rights, appears, hospital, developed, good, system, wait, less, hour, see, doctor, receive, medicine, within, minutes, examination, completed, dr, weng, give, good, advice, nurses, staff, provide, service, first, thinking, going, gold, card, wait, whole, day, bad, service, siriraj, completely, old -1       fn       \n",
       "30   เจ้าหน้าที่ประกันสังคมบริการดีมาก น่ารักใจดี พยาบาลสวย ใจดีทุกคน ห้องแอร์ก็เย็น คิดว่านอนโรงแรม555 ส่วนตัวผมชอบมาก บริการทุกระดับประทับใจต้องศิริราช รอตรวจรอผลเลือด สรุปเป็น ลำไส้อักเสบ นอนไปครึ่งวันกลับบ้านได้                                                                                                                                                                                                           Social security staff, service is very good, lovely, kind, amiable, pretty, kind, everyone. Aircon room is cool. Think of sleeping hotel 555 Personally, I like very much. All levels of service are impressive. Must be Siriraj. Waiting to wait for the blood results to be concluded as an inflammatory bowel, sleeping half a day back home.                                                                                                                                                                                                                                                                5     1      corpus_siriraj  social security staff service good lovely kind amiable pretty kind everyone aircon room cool think sleeping hotel 555 personally like much levels service impressive must siriraj waiting wait blood results concluded inflammatory bowel sleeping half day back home                                                                                                                                                   social, security, staff, service, good, lovely, kind, pretty, kind, everyone, room, cool, think, sleeping, 555, personally, like, much, levels, service, impressive, must, siriraj, waiting, wait, blood, results, concluded, bowel, sleeping, half, day, back, home                                                                                                          -1       fn       \n",
       "41   ผู้เฒ่าผู้แก่มานั่งรอประตูเปิดเวลา 6โมงเช้าพอประตูเปิดทุกคนวิ่งเพียงเพื่อเอาบัตรที่นัดไปเสียบแต่ไม่ใช่ที่1กับเป็นที่เท่าไรไม่รู้มีบัตรนัดเสียบอยู่แล้วเป็นสิบ. อยากทราบเกิดอะไรขึ้นมานั่งรอตี5 เป็นญาติคนไข้ค่ะแก่วิ่งไม่ได้ ผู้ใหญ่ของโรงบาลลองไปดูตอน6โมงเช้าซิค่ะว่าเค้าวิ่งเหมือนหนีตายกันจริงๆ5555วิ่งไปเสียบบัตรค่ะ                                                                                                    The elders come to sit and wait for the door to open. 6 o'clock in the morning, when the door is open, everyone runs, just to take the card that is set to be plugged in, but not the 1st place and where it is. Want to know what happened to sit and wait 5? Is a relative of a patient, old, can't run The adult of the hospital tried to see it at 6 o'clock in the morning. He said that he actually ran like a dead man.                                                                                                                                                                                  4     1      corpus_chula    elders come sit wait door open 6 oclock morning door open everyone runs take card set plugged in 1st place is want know happened sit wait 5 relative patient old run adult hospital tried see 6 oclock morning said actually ran like dead man                                                                                                                                                                          come, sit, wait, door, open, 6, oclock, morning, door, open, everyone, runs, take, card, set, in, 1st, place, is, want, know, sit, wait, 5, relative, patient, old, run, adult, hospital, see, 6, oclock, morning, said, actually, like, dead                                                                                                                                 -1       fn       \n",
       "42   ดีครับรพ.ต่างจังหวัดแย่มากๆลูกสาวป่วยแต่อายุ9ขวบตอนนี้22แล้วไปกลับทุกๆ3เดือน                                                                                                                                                                                                                                                                                                                                                 Well, the provincial hospital is very bad. The daughter is sick but is 9 years old. Now 22 and go back every 3 months.                                                                                                                                                                                                                                                                                                                                                                                                                                                                                          5     1      corpus_rama     well provincial hospital bad daughter sick 9 years old 22 go back every 3 months                                                                                                                                                                                                                                                                                                                                        well, provincial, hospital, bad, daughter, sick, 9, years, old, 22, go, back, every, 3, months                                                                                                                                                                                                                                                                                -1       fn       \n",
       "68   พยาบาลพูดจาไม่ค่อยจะดีเท่าไหร่ ไม่รุ้จักว่าใครคือคนที่จะเคารพหรือไม่ คนแก่ชราก้อด่าเค้าเกินไป                                                                                                                                                                                                                                                                                                                                The nurse spoke very poorly. Do not know who is the person who will respect or not Old people scold him too                                                                                                                                                                                                                                                                                                                                                                                                                                                                                                     5     1      corpus_rama     nurse spoke poorly know person respect old people scold                                                                                                                                                                                                                                                                                                                                                                 nurse, spoke, poorly, know, person, old, people                                                                                                                                                                                                                                                                                                                               -1       fn       \n",
       "73   ไว้ใจใช้บริการมา20กว่าปีแล้วคะแต่การเจอะเลือดคิวยาวมากรอนานโดยเฉพาะชั้น4แต่โดยรวมดีมากคะ                                                                                                                                                                                                                                                                                                                                     Trusting to use the service for over 20 years, but the blood queue is very long, waiting for a long time, especially the 4th floor, but overall very good.                                                                                                                                                                                                                                                                                                                                                                                                                                                      5     1      corpus_chula    trusting use service 20 years blood queue long waiting long time especially 4th floor overall good                                                                                                                                                                                                                                                                                                                      trusting, use, service, 20, years, blood, queue, long, waiting, long, time, especially, 4th, floor, overall, good                                                                                                                                                                                                                                                             -1       fn       \n",
       "76   ยังไม่เคยรับบริการ เนื่องจากการเดินทางไม่สะดวก แต่ได้ชมรายการครบรอบ 100 ปี โรงพยาบาลจุฬาลงกรณ์ ได้รับทราบถึงการพัฒนาทางการแพทย์และอุปกรณ์การแพทย์ ที่ทันสมัยมาก                                                                                                                                                                                                                                                              Have never received service Due to inconvenient travel But watched the 100th anniversary program of Chulalongkorn Hospital Acknowledged the development of medical and medical devices Very modern                                                                                                                                                                                                                                                                                                                                                                                                              5     1      corpus_chula    never received service due inconvenient travel watched 100th anniversary program chulalongkorn hospital acknowledged development medical medical devices modern                                                                                                                                                                                                                                                         never, received, service, due, inconvenient, travel, watched, chulalongkorn, hospital, medical, medical, modern                                                                                                                                                                                                                                                               -1       fn       \n",
       "89   ผู้ป่วยบางคน จะตายไม่ตายแลแต่หมอบอกว่าไม่เป็นอะไร ตรวจหาสาเหตุไม่เจอ ไปก็หลายโรงพยาบาลเสียเงินทองก็มากมาย ทุกที่หมอก็บอกว่าไม่เป็นอะไร ถ้าหมดที่ไปแล้วลองคุยกับหนูได้นะครับ                                                                                                                                                                                                                                                  Some patients will die and not die, but the doctor says nothing. Can't detect the cause Went to many hospitals and lost a lot of money Everywhere the doctor said that it was nothing. If you go out and try talking to me                                                                                                                                                                                                                                                                                                                                                                                      4     1      corpus_chula    patients die die doctor says nothing detect cause went many hospitals lost lot money everywhere doctor said nothing go try talking                                                                                                                                                                                                                                                                                      patients, die, die, doctor, says, nothing, detect, cause, went, many, hospitals, lost, lot, money, everywhere, doctor, said, nothing, go, try, talking                                                                                                                                                                                                                        -1       fn       \n",
       "94   โรงพยาบาลจุฬาฯคือสุดยอดผู้เชี่ยวชาญในเรื่องโรคหัวใจ เด็กเล็กเด็กอ่อนแค่ไหนก็สามารถผ่าตัดช่วยได้ ขอบคุณที่ช่วยชีวิตลูกชาย ให้เราได้ลูกชายที่แข็งแรงกลับมา ขอบคุณจากใจค่ะ                                                                                                                                                                                                                                                      Chula Hospital is the ultimate expert in heart disease. Young children, little children can help with surgery. Thank you for saving your son's life. Let us have a strong son back. Thank you from your heart                                                                                                                                                                                                                                                                                                                                                                                                   5     1      corpus_chula    chula hospital ultimate expert heart disease young children little children help surgery thank saving sons life let us strong son back thank heart                                                                                                                                                                                                                                                                      chula, hospital, expert, heart, disease, young, children, little, children, help, surgery, thank, life, let, us, strong, son, back, thank, heart                                                                                                                                                                                                                              -1       fn       \n",
       "95   จะกี่ครั้ง จะกี่หน ต้องใช้ความอดทน และ ทำใจ ทุกครั้งที่มา ไม่ว่าตะพยายามคิดในแง่ดีแค่ไหนก็ไม่สามารถ ทำให้ความรู้สึกดีขึ้นเลย ได้แต่คิดผิดที่กู เสือกมาที่นี่เอง ก็รู้ว่าไม่ได้มีเพียงแต่เรา ทุกคนก็ใช้ความอดทนแต่ตลอดปีกว่าที่เพียรมารักษาที่นี่ จากความหวัง กลายเป็นความฝังใจและฝังยันรากลึก ในแง่ลบ มากๆๆๆๆๆๆๆ                                                                                                             How many times will you need to use patience and make every time you come? No matter how good you try to think about, you can't. Makes the feeling better Can only think wrong at me It's here. Knew that there was not only us Everyone used patience, but throughout the years, he persevered here, from hope, becoming buried and deeply rooted in very negative roots.                                                                                                                                                                                                                                      2     -1     corpus_chula    many times need use patience make every time come matter good try think about cant makes feeling better think wrong here knew us everyone used patience throughout years persevered here hope becoming buried deeply rooted negative roots                                                                                                                                                                              many, times, need, use, make, every, time, come, matter, good, try, think, cant, makes, feeling, better, think, wrong, here, knew, us, everyone, used, throughout, years, here, hope, buried                                                                                                                                                                                   1       fp       \n",
       "96   พ่อผมไม่สบาย                                                                                                                                                                                                                                                                                                                                                                                                                 My father is sick                                                                                                                                                                                                                                                                                                                                                                                                                                                                                                                                                                                               1     -1     corpus_rama     father sick                                                                                                                                                                                                                                                                                                                                                                                                             father, sick                                                                                                                                                                                                                                                                                                                                                                   1       fp       \n",
       "98   พาแฟนมาผ่าตัดครั้งที่ 2 โดยไม่เคยรู้จักใครมาก่อนที่จะเข้ามา... ได้รับบริการมาตรฐานเท่าเทียม และเสมอภาพนะ พยาบาบตึกเจริญ-สมศรีทำหน้าที่ได้ประทับใจค่ะ                                                                                                                                                                                                                                                                         Take the girlfriend to surgery for the second time without ever knowing anyone before coming in ... Received equal standard service and always images. Payabab, Chareon-Somsri Building. Impressed.                                                                                                                                                                                                                                                                                                                                                                                                             1     -1     corpus_chula    take girlfriend surgery second time without ever knowing anyone coming  received equal standard service always images payabab chareonsomsri building impressed                                                                                                                                                                                                                                                          take, girlfriend, surgery, second, time, without, ever, anyone, coming, received, equal, standard, service, always, building, impressed                                                                                                                                                                                                                                        1       fp       \n",
       "99   ผมเป็นเจ้าหน้าที่ รพ.ราชบุรี /ศ.referจุฬาฯ ตอนเวลา 13.20 น.ของวันนี้ เจ้าหน้าที่ผู้หญิงที่รับสายจาก รพ.ราชบุรี ช่วยพูดเพราะๆหน่อยนะครับ ไม่ต้องพูดแดกดันเสียงดัง รู้พวกท่านกำลังยุ่งมาก เอกสารrefer ที่จะส่งไปมันเป็น ผู้หญิงที่ท้องได้ 24 สัปดาห์ + กับท้องแฝดด้วย มีท้องแข็ง ปัสสวะแสบขัด ลูกดิ้น พวกท่านช่วยรับได้มั้ย แล้วก็ช่วยประสานงานด้วยคงไม่ได้เป็นภาระมากมายนะครับ                                                I am an officer of the Ratchaburi Hospital / Prof. Chulalongkorn University. At 13.20 hrs., Today, the female staff who pick up the call from Ratchaburi Hospital help to speak because of me. Don't have to say ironically loudly Knowing that you are very busy. The referral documents that are sent. A woman who has 24 weeks of stomachs + with twin stomachs with stiff breasts. Can you help me get it? And then help coordinate with, probably not a lot of burden                                                                                                                                      1     -1     corpus_chula    officer ratchaburi hospital  prof chulalongkorn university 1320 hrs today female staff pick call ratchaburi hospital help speak me say ironically loudly knowing busy referral documents sent woman 24 weeks stomachs  twin stomachs stiff breasts help get it help coordinate with probably lot burden                                                                                                                 officer, hospital, prof, chulalongkorn, university, hrs, today, female, staff, pick, call, hospital, help, speak, me, say, busy, documents, sent, weeks, help, get, it, help, coordinate, probably, lot, burden                                                                                                                                                                1       fp       \n",
       "103  ปรับปรุงการเรียกคิวหน่อย                                                                                                                                                                                                                                                                                                                                                                                                     Improve call queue                                                                                                                                                                                                                                                                                                                                                                                                                                                                                                                                                                                              1     -1     corpus_chula    improve call queue                                                                                                                                                                                                                                                                                                                                                                                                      improve, call, queue                                                                                                                                                                                                                                                                                                                                                           1       fp       \n",
       "104  คุณแม่ ต้องตรวจจากแพทย์หลายท่าน และแต่ละท่านไม่เชื่อมโยงข้อมูลกัน ทำให้ต้องไป รพ ตามนัด หลายครั้งมากครับ                                                                                                                                                                                                                                                                                                                     Mothers must check from many doctors. And each of them does not link to each other, causing to have to go to the hospital for many times                                                                                                                                                                                                                                                                                                                                                                                                                                                                        2     -1     corpus_siriraj  mothers must check many doctors link other causing go hospital many times                                                                                                                                                                                                                                                                                                                                               mothers, must, check, many, doctors, other, causing, go, hospital, many, times                                                                                                                                                                                                                                                                                                 1       fp       \n",
       "105  ไปจนมีความรู้สึกเป็นบ้านอีกหลัง_ไปบ่อยซะจนเหนื่อย แต่! ก็ต้องไป                                                                                                                                                                                                                                                                                                                                                              Until there was a feeling of being back home often, so tired! Must go                                                                                                                                                                                                                                                                                                                                                                                                                                                                                                                                           2     -1     corpus_chula    feeling back home often tired must go                                                                                                                                                                                                                                                                                                                                                                                   feeling, back, home, often, tired, must, go                                                                                                                                                                                                                                                                                                                                    1       fp       \n",
       "109  คุณหมอเข้าของไข้ผ่าตัดดี แต่นศพ ดึงสายเลือดออก จึงต้องทำให้ผ่ารอบสอง ต้องโทรหาอาจารย์ตลอดการผ่า รอดตายมาได้ จนทำให้คอเป็นถึงทุกวันนี้ คอยึด คอตึง กลืนยาเม็ดใหญ่ไม่ได้ พยาบาลแผนกคอนิสัยน่ารักแต่แผนงรังสี หมอดีค่ะ ให้คำปรึกษาดี ทุกอย่างโอเคหมด แย่ตรงผ่าคอรอบสองครั้งนั้นค่ะ จนเป็นปีแล้ว คอก็ไม่ดีขึ้นค่ะ                                                                                                                The doctor entered the surgical fever well, but the body pulled out the blood line. Therefore having to make a second round Had to call the teacher throughout the operation to survive until the neck is today The nurse in the neck department is cute, but the radiation plan is good. Everything is ok. Poor in the neck, around that time, until a year, then the neck is not better.                                                                                                                                                                                                                      1     -1     corpus_siriraj  doctor entered surgical fever well body pulled blood line therefore make second round call teacher throughout operation survive neck today nurse neck department cute radiation plan good everything ok poor neck around time year neck better                                                                                                                                                                          doctor, entered, surgical, fever, well, body, blood, line, therefore, make, second, call, teacher, throughout, survive, neck, today, nurse, neck, department, cute, radiation, plan, good, everything, ok, poor, neck, around, time, year, neck, better                                                                                                                        1       fp       \n",
       "110  ปรับปรุงเรื่องการบริการของพยาบาลด้วยนะคะ                                                                                                                                                                                                                                                                                                                                                                                     Improve the nursing service too.                                                                                                                                                                                                                                                                                                                                                                                                                                                                                                                                                                                2     -1     corpus_rama     improve nursing service too                                                                                                                                                                                                                                                                                                                                                                                             improve, nursing, service, too                                                                                                                                                                                                                                                                                                                                                 1       fp       \n",
       "111  ใช้เวลานานในทุกจุดที่ไปติดต่อ รวมถึงข้อจำกัดเกี่ยวกับยาที่ใช่ระหว่างรพ.เอกชน & รพ.ของรัฐ                                                                                                                                                                                                                                                                                                                                     It takes a long time in every point of contact. Including restrictions on drugs that are not between private hospitals and public hospitals                                                                                                                                                                                                                                                                                                                                                                                                                                                                     2     -1     corpus_chula    takes long time every point contact including restrictions drugs private hospitals public hospitals                                                                                                                                                                                                                                                                                                                     takes, long, time, every, point, contact, including, drugs, private, hospitals, public, hospitals                                                                                                                                                                                                                                                                              1       fp       \n",
       "117  นานเกิ๊น                                                                                                                                                                                                                                                                                                                                                                                                                     Nung Goan                                                                                                                                                                                                                                                                                                                                                                                                                                                                                                                                                                                                       1     -1     corpus_chula    nung goan                                                                                                                                                                                                                                                                                                                                                                                                                                                                                                                                                                                                                                                                                                                                                                                              1       fp       \n",
       "118  ดิฉันต้องการติดต่อฝ่ายเบิกจ่ายตรง ซึ่งเบอร์ที่ได้มาเป็นการคลัง เมื่อโทรไปผู้หญิงรับแล้วก่อนที่จะต่อสายให้ พูดแทรกในโทรศัพท์ #น่าเบื่อว่ะ. พูดมาได้ยังไง คุณพูดกับใคร หรือบ่นเองดิฉันไม่รู้ แต่เป็นสิ่งที่ไม่ควรทำในอาชีพบริการนะคะ โทรมาหาดิฉันได้ค่ะ080-611-0369 ไม่ประทับตั้งแต่ครั้งแรก                                                                                                                                   I want to contact the disbursement department directly. Which the number that has been acquired as a finance When calling to a woman before receiving the call Insert in phone # Boring. How can you speak? You speak to someone or complain. I don't know. But it is something that should not be done in the service profession Call me. 080-611-0369 Not stamped from the first time                                                                                                                                                                                                                         1     -1     corpus_rama     want contact disbursement department directly number acquired finance calling woman receiving call insert phone  boring speak speak someone complain know something done service profession call me 0806110369 stamped first time                                                                                                                                                                                       want, contact, department, directly, number, finance, calling, receiving, call, insert, phone, boring, speak, speak, someone, know, something, done, service, profession, call, me, first, time                                                                                                                                                                                1       fp       "
      ]
     },
     "execution_count": 15,
     "metadata": {},
     "output_type": "execute_result"
    }
   ],
   "source": [
    "# Merge data among raw data, preprocessed data, and predicted y\n",
    "df_analyse = pd.DataFrame(np.concatenate((files['df_test'], \n",
    "                                          files['cleaned_test'].reshape(119,1),\n",
    "                                          word_feed, y_pred), axis=1), \n",
    "                          columns=['comment_th','comment_eng','score','y_test','hospital','cleaned_text','word_feed','y_pred'])\n",
    "df_analyse['y_pred'] = df_analyse['y_pred'].apply(lambda x: -1 if x==0 else x)\n",
    "df_analyse['word_feed'] = df_analyse['word_feed'].apply(', '.join)\n",
    "df_analyse['false_type'] = df_analyse.apply(lambda x: 'fp' if (x.y_pred > x.y_test) else ('fn' if x.y_pred < x.y_test else None), axis = 1)\n",
    "\n",
    "# Focus on false prediction\n",
    "df_analyse_false = df_analyse[(df_analyse['false_type'] == 'fp') | (df_analyse['false_type'] == 'fn')]\n",
    "print('Number of false prediction\\n{}'.format(df_analyse_false[['y_pred','false_type']].groupby('false_type').count()))\n",
    "df_analyse_false"
   ]
  },
  {
   "cell_type": "markdown",
   "metadata": {},
   "source": [
    "## False prediction could occur because of 3 main reasons."
   ]
  },
  {
   "cell_type": "markdown",
   "metadata": {},
   "source": [
    "### _1. Incorrect translation:_ The Google translator API could not translate some Thai words or incorrect translation leading to wrong interpreting."
   ]
  },
  {
   "cell_type": "code",
   "execution_count": 16,
   "metadata": {},
   "outputs": [
    {
     "data": {
      "text/html": [
       "<div>\n",
       "<style scoped>\n",
       "    .dataframe tbody tr th:only-of-type {\n",
       "        vertical-align: middle;\n",
       "    }\n",
       "\n",
       "    .dataframe tbody tr th {\n",
       "        vertical-align: top;\n",
       "    }\n",
       "\n",
       "    .dataframe thead th {\n",
       "        text-align: right;\n",
       "    }\n",
       "</style>\n",
       "<table border=\"1\" class=\"dataframe\">\n",
       "  <thead>\n",
       "    <tr style=\"text-align: right;\">\n",
       "      <th></th>\n",
       "      <th>comment_th</th>\n",
       "      <th>comment_eng</th>\n",
       "      <th>score</th>\n",
       "      <th>y_test</th>\n",
       "      <th>hospital</th>\n",
       "      <th>cleaned_text</th>\n",
       "      <th>word_feed</th>\n",
       "      <th>y_pred</th>\n",
       "      <th>false_type</th>\n",
       "    </tr>\n",
       "  </thead>\n",
       "  <tbody>\n",
       "    <tr>\n",
       "      <th>94</th>\n",
       "      <td>โรงพยาบาลจุฬาฯคือสุดยอดผู้เชี่ยวชาญในเรื่องโรคหัวใจ เด็กเล็กเด็กอ่อนแค่ไหนก็สามารถผ่าตัดช่วยได้ ขอบคุณที่ช่วยชีวิตลูกชาย ให้เราได้ลูกชายที่แข็งแรงกลับมา ขอบคุณจากใจค่ะ</td>\n",
       "      <td>Chula Hospital is the ultimate expert in heart disease. Young children, little children can help with surgery. Thank you for saving your son's life. Let us have a strong son back. Thank you from your heart</td>\n",
       "      <td>5</td>\n",
       "      <td>1</td>\n",
       "      <td>corpus_chula</td>\n",
       "      <td>chula hospital ultimate expert heart disease young children little children help surgery thank saving sons life let us strong son back thank heart</td>\n",
       "      <td>chula, hospital, expert, heart, disease, young, children, little, children, help, surgery, thank, life, let, us, strong, son, back, thank, heart</td>\n",
       "      <td>-1</td>\n",
       "      <td>fn</td>\n",
       "    </tr>\n",
       "    <tr>\n",
       "      <th>117</th>\n",
       "      <td>นานเกิ๊น</td>\n",
       "      <td>Nung Goan</td>\n",
       "      <td>1</td>\n",
       "      <td>-1</td>\n",
       "      <td>corpus_chula</td>\n",
       "      <td>nung goan</td>\n",
       "      <td></td>\n",
       "      <td>1</td>\n",
       "      <td>fp</td>\n",
       "    </tr>\n",
       "  </tbody>\n",
       "</table>\n",
       "</div>"
      ],
      "text/plain": [
       "                                                                                                                                                                  comment_th                                                                                                                                                                                                    comment_eng score y_test      hospital                                                                                                                                        cleaned_text                                                                                                                                         word_feed  y_pred false_type\n",
       "94   โรงพยาบาลจุฬาฯคือสุดยอดผู้เชี่ยวชาญในเรื่องโรคหัวใจ เด็กเล็กเด็กอ่อนแค่ไหนก็สามารถผ่าตัดช่วยได้ ขอบคุณที่ช่วยชีวิตลูกชาย ให้เราได้ลูกชายที่แข็งแรงกลับมา ขอบคุณจากใจค่ะ  Chula Hospital is the ultimate expert in heart disease. Young children, little children can help with surgery. Thank you for saving your son's life. Let us have a strong son back. Thank you from your heart  5     1      corpus_chula  chula hospital ultimate expert heart disease young children little children help surgery thank saving sons life let us strong son back thank heart  chula, hospital, expert, heart, disease, young, children, little, children, help, surgery, thank, life, let, us, strong, son, back, thank, heart -1       fn       \n",
       "117  นานเกิ๊น                                                                                                                                                                 Nung Goan                                                                                                                                                                                                      1     -1     corpus_chula  nung goan                                                                                                                                                                                                                                                                                             1       fp       "
      ]
     },
     "execution_count": 16,
     "metadata": {},
     "output_type": "execute_result"
    }
   ],
   "source": [
    "df_analyse_false.loc[([94,117])]"
   ]
  },
  {
   "cell_type": "markdown",
   "metadata": {},
   "source": [
    "### _2. Ambiguous sentences:_ One comment contains both sides of positive and negative or the comment is not related to those hospital. Therefore, it could make the model confuse to predict the score."
   ]
  },
  {
   "cell_type": "code",
   "execution_count": 17,
   "metadata": {},
   "outputs": [
    {
     "data": {
      "text/html": [
       "<div>\n",
       "<style scoped>\n",
       "    .dataframe tbody tr th:only-of-type {\n",
       "        vertical-align: middle;\n",
       "    }\n",
       "\n",
       "    .dataframe tbody tr th {\n",
       "        vertical-align: top;\n",
       "    }\n",
       "\n",
       "    .dataframe thead th {\n",
       "        text-align: right;\n",
       "    }\n",
       "</style>\n",
       "<table border=\"1\" class=\"dataframe\">\n",
       "  <thead>\n",
       "    <tr style=\"text-align: right;\">\n",
       "      <th></th>\n",
       "      <th>comment_th</th>\n",
       "      <th>comment_eng</th>\n",
       "      <th>score</th>\n",
       "      <th>y_test</th>\n",
       "      <th>hospital</th>\n",
       "      <th>cleaned_text</th>\n",
       "      <th>word_feed</th>\n",
       "      <th>y_pred</th>\n",
       "      <th>false_type</th>\n",
       "    </tr>\n",
       "  </thead>\n",
       "  <tbody>\n",
       "    <tr>\n",
       "      <th>10</th>\n",
       "      <td>ชอบโรงบาลนี้มากคะถึงจะรอนานก็เค้าใจเพราะคนไข้เยอะและมีอย่างนึ่งอยากขอไม่ต้องให้คนเข้ามาเดินขายของนะคะพอรอไม่ซื้อก็ด่า วันนี้กผ้เหมือนกันไม่รู้เค้าด่าเราหรือป่าว ตอนเราลงบันได้เลื่อยลงมาเค้าก็ลงตามมาด้วย เค้าก็พูดกับเพื่อนเค้าข้างหลังเราว่า ซื้อดอกเดียวก็ไม่ได้ไอพวกเหี้ยขี้งก เพราะเค้าก็มาขอให้เราซื้อเหมือนกัน ขอละนะคะ</td>\n",
       "      <td>I like this hospital very much. To wait for a long time, he is very patient because he has a lot of steaming things. Today, I don't know how to curse us. When we got down, he saw him down and followed him. He said to his friends behind us that Buy one flower, not a cough, bad guys Because he came to ask us to buy as well.</td>\n",
       "      <td>5</td>\n",
       "      <td>1</td>\n",
       "      <td>corpus_chula</td>\n",
       "      <td>like hospital much wait long time patient lot steaming things today know curse us got down saw followed him said friends behind us buy one flower cough bad guys came ask us buy well</td>\n",
       "      <td>like, hospital, much, wait, long, time, patient, lot, things, today, know, us, got, saw, followed, him, said, friends, behind, us, buy, one, bad, guys, came, ask, us, buy, well</td>\n",
       "      <td>-1</td>\n",
       "      <td>fn</td>\n",
       "    </tr>\n",
       "    <tr>\n",
       "      <th>20</th>\n",
       "      <td>ไปหาหมอเนื่องจากฮอร์โมนไม่ปกติ ตอนแรกคิดว่าศิริราชจะต้องรอนานมากๆเนื่องจากใช้สิทธิ์บัตรทองแต่ปรากฎคือเดี๋ยวนี้โรงพยาบาลพัฒนาระบบดีมากๆ รอไม่ถึงชั่วโมงได้พบคุณหมอและรับยาภายในสามสิบนาทีหลังตรวจเสร็จ คุณหมอเก่งและให้คำแนะนำอย่างดี พยาบาลและเจ้าหน้าที่ให้การบริการและความช่วยเหลืออย่างเป็นระบบ ดีมากๆค่า ตอนแรกคิดว่าไปรักษาบัตรทองจะต้องรอทั้งวันและเจอบริการไม่ดี ศิริราชสมัยนี้ลบล้างความเชื่อเก่าๆได้อย่างหมดจรดค่ะ</td>\n",
       "      <td>Go to the doctor because of abnormal hormones At first I thought that Siriraj had to wait a long time because of the gold card rights, but it appears that now the hospital has developed a very good system. Wait for less than an hour to see a doctor and receive the medicine within thirty minutes after the examination is completed. Dr. Weng and give good advice Nurses and staff provide a very systematic and helpful service and assistance. At first, thinking of going to the gold card to wait for the whole day and encounter bad service. Siriraj nowadays has completely erased old beliefs.</td>\n",
       "      <td>5</td>\n",
       "      <td>1</td>\n",
       "      <td>corpus_siriraj</td>\n",
       "      <td>go doctor abnormal hormones first thought siriraj wait long time gold card rights appears hospital developed good system wait less hour see doctor receive medicine within thirty minutes examination completed dr weng give good advice nurses staff provide systematic helpful service assistance first thinking going gold card wait whole day encounter bad service siriraj nowadays completely erased old beliefs</td>\n",
       "      <td>go, doctor, first, thought, siriraj, wait, long, time, gold, card, rights, appears, hospital, developed, good, system, wait, less, hour, see, doctor, receive, medicine, within, minutes, examination, completed, dr, weng, give, good, advice, nurses, staff, provide, service, first, thinking, going, gold, card, wait, whole, day, bad, service, siriraj, completely, old</td>\n",
       "      <td>-1</td>\n",
       "      <td>fn</td>\n",
       "    </tr>\n",
       "    <tr>\n",
       "      <th>42</th>\n",
       "      <td>ดีครับรพ.ต่างจังหวัดแย่มากๆลูกสาวป่วยแต่อายุ9ขวบตอนนี้22แล้วไปกลับทุกๆ3เดือน</td>\n",
       "      <td>Well, the provincial hospital is very bad. The daughter is sick but is 9 years old. Now 22 and go back every 3 months.</td>\n",
       "      <td>5</td>\n",
       "      <td>1</td>\n",
       "      <td>corpus_rama</td>\n",
       "      <td>well provincial hospital bad daughter sick 9 years old 22 go back every 3 months</td>\n",
       "      <td>well, provincial, hospital, bad, daughter, sick, 9, years, old, 22, go, back, every, 3, months</td>\n",
       "      <td>-1</td>\n",
       "      <td>fn</td>\n",
       "    </tr>\n",
       "    <tr>\n",
       "      <th>89</th>\n",
       "      <td>ผู้ป่วยบางคน จะตายไม่ตายแลแต่หมอบอกว่าไม่เป็นอะไร ตรวจหาสาเหตุไม่เจอ ไปก็หลายโรงพยาบาลเสียเงินทองก็มากมาย ทุกที่หมอก็บอกว่าไม่เป็นอะไร ถ้าหมดที่ไปแล้วลองคุยกับหนูได้นะครับ</td>\n",
       "      <td>Some patients will die and not die, but the doctor says nothing. Can't detect the cause Went to many hospitals and lost a lot of money Everywhere the doctor said that it was nothing. If you go out and try talking to me</td>\n",
       "      <td>4</td>\n",
       "      <td>1</td>\n",
       "      <td>corpus_chula</td>\n",
       "      <td>patients die die doctor says nothing detect cause went many hospitals lost lot money everywhere doctor said nothing go try talking</td>\n",
       "      <td>patients, die, die, doctor, says, nothing, detect, cause, went, many, hospitals, lost, lot, money, everywhere, doctor, said, nothing, go, try, talking</td>\n",
       "      <td>-1</td>\n",
       "      <td>fn</td>\n",
       "    </tr>\n",
       "    <tr>\n",
       "      <th>109</th>\n",
       "      <td>คุณหมอเข้าของไข้ผ่าตัดดี แต่นศพ ดึงสายเลือดออก จึงต้องทำให้ผ่ารอบสอง ต้องโทรหาอาจารย์ตลอดการผ่า รอดตายมาได้ จนทำให้คอเป็นถึงทุกวันนี้ คอยึด คอตึง กลืนยาเม็ดใหญ่ไม่ได้ พยาบาลแผนกคอนิสัยน่ารักแต่แผนงรังสี หมอดีค่ะ ให้คำปรึกษาดี ทุกอย่างโอเคหมด แย่ตรงผ่าคอรอบสองครั้งนั้นค่ะ จนเป็นปีแล้ว คอก็ไม่ดีขึ้นค่ะ</td>\n",
       "      <td>The doctor entered the surgical fever well, but the body pulled out the blood line. Therefore having to make a second round Had to call the teacher throughout the operation to survive until the neck is today The nurse in the neck department is cute, but the radiation plan is good. Everything is ok. Poor in the neck, around that time, until a year, then the neck is not better.</td>\n",
       "      <td>1</td>\n",
       "      <td>-1</td>\n",
       "      <td>corpus_siriraj</td>\n",
       "      <td>doctor entered surgical fever well body pulled blood line therefore make second round call teacher throughout operation survive neck today nurse neck department cute radiation plan good everything ok poor neck around time year neck better</td>\n",
       "      <td>doctor, entered, surgical, fever, well, body, blood, line, therefore, make, second, call, teacher, throughout, survive, neck, today, nurse, neck, department, cute, radiation, plan, good, everything, ok, poor, neck, around, time, year, neck, better</td>\n",
       "      <td>1</td>\n",
       "      <td>fp</td>\n",
       "    </tr>\n",
       "  </tbody>\n",
       "</table>\n",
       "</div>"
      ],
      "text/plain": [
       "                                                                                                                                                                                                                                                                                                                                                                                                                      comment_th                                                                                                                                                                                                                                                                                                                                                                                                                                                                                                                                                                                                     comment_eng score y_test        hospital                                                                                                                                                                                                                                                                                                                                                                                                            cleaned_text                                                                                                                                                                                                                                                                                                                                                                      word_feed  y_pred false_type\n",
       "10   ชอบโรงบาลนี้มากคะถึงจะรอนานก็เค้าใจเพราะคนไข้เยอะและมีอย่างนึ่งอยากขอไม่ต้องให้คนเข้ามาเดินขายของนะคะพอรอไม่ซื้อก็ด่า วันนี้กผ้เหมือนกันไม่รู้เค้าด่าเราหรือป่าว ตอนเราลงบันได้เลื่อยลงมาเค้าก็ลงตามมาด้วย เค้าก็พูดกับเพื่อนเค้าข้างหลังเราว่า ซื้อดอกเดียวก็ไม่ได้ไอพวกเหี้ยขี้งก เพราะเค้าก็มาขอให้เราซื้อเหมือนกัน ขอละนะคะ                                                                                              I like this hospital very much. To wait for a long time, he is very patient because he has a lot of steaming things. Today, I don't know how to curse us. When we got down, he saw him down and followed him. He said to his friends behind us that Buy one flower, not a cough, bad guys Because he came to ask us to buy as well.                                                                                                                                                                                                                                                                             5     1      corpus_chula    like hospital much wait long time patient lot steaming things today know curse us got down saw followed him said friends behind us buy one flower cough bad guys came ask us buy well                                                                                                                                                                                                                                   like, hospital, much, wait, long, time, patient, lot, things, today, know, us, got, saw, followed, him, said, friends, behind, us, buy, one, bad, guys, came, ask, us, buy, well                                                                                                                                                                                              -1       fn       \n",
       "20   ไปหาหมอเนื่องจากฮอร์โมนไม่ปกติ ตอนแรกคิดว่าศิริราชจะต้องรอนานมากๆเนื่องจากใช้สิทธิ์บัตรทองแต่ปรากฎคือเดี๋ยวนี้โรงพยาบาลพัฒนาระบบดีมากๆ รอไม่ถึงชั่วโมงได้พบคุณหมอและรับยาภายในสามสิบนาทีหลังตรวจเสร็จ คุณหมอเก่งและให้คำแนะนำอย่างดี พยาบาลและเจ้าหน้าที่ให้การบริการและความช่วยเหลืออย่างเป็นระบบ ดีมากๆค่า ตอนแรกคิดว่าไปรักษาบัตรทองจะต้องรอทั้งวันและเจอบริการไม่ดี ศิริราชสมัยนี้ลบล้างความเชื่อเก่าๆได้อย่างหมดจรดค่ะ  Go to the doctor because of abnormal hormones At first I thought that Siriraj had to wait a long time because of the gold card rights, but it appears that now the hospital has developed a very good system. Wait for less than an hour to see a doctor and receive the medicine within thirty minutes after the examination is completed. Dr. Weng and give good advice Nurses and staff provide a very systematic and helpful service and assistance. At first, thinking of going to the gold card to wait for the whole day and encounter bad service. Siriraj nowadays has completely erased old beliefs.  5     1      corpus_siriraj  go doctor abnormal hormones first thought siriraj wait long time gold card rights appears hospital developed good system wait less hour see doctor receive medicine within thirty minutes examination completed dr weng give good advice nurses staff provide systematic helpful service assistance first thinking going gold card wait whole day encounter bad service siriraj nowadays completely erased old beliefs  go, doctor, first, thought, siriraj, wait, long, time, gold, card, rights, appears, hospital, developed, good, system, wait, less, hour, see, doctor, receive, medicine, within, minutes, examination, completed, dr, weng, give, good, advice, nurses, staff, provide, service, first, thinking, going, gold, card, wait, whole, day, bad, service, siriraj, completely, old -1       fn       \n",
       "42   ดีครับรพ.ต่างจังหวัดแย่มากๆลูกสาวป่วยแต่อายุ9ขวบตอนนี้22แล้วไปกลับทุกๆ3เดือน                                                                                                                                                                                                                                                                                                                                                 Well, the provincial hospital is very bad. The daughter is sick but is 9 years old. Now 22 and go back every 3 months.                                                                                                                                                                                                                                                                                                                                                                                                                                                                                          5     1      corpus_rama     well provincial hospital bad daughter sick 9 years old 22 go back every 3 months                                                                                                                                                                                                                                                                                                                                        well, provincial, hospital, bad, daughter, sick, 9, years, old, 22, go, back, every, 3, months                                                                                                                                                                                                                                                                                -1       fn       \n",
       "89   ผู้ป่วยบางคน จะตายไม่ตายแลแต่หมอบอกว่าไม่เป็นอะไร ตรวจหาสาเหตุไม่เจอ ไปก็หลายโรงพยาบาลเสียเงินทองก็มากมาย ทุกที่หมอก็บอกว่าไม่เป็นอะไร ถ้าหมดที่ไปแล้วลองคุยกับหนูได้นะครับ                                                                                                                                                                                                                                                  Some patients will die and not die, but the doctor says nothing. Can't detect the cause Went to many hospitals and lost a lot of money Everywhere the doctor said that it was nothing. If you go out and try talking to me                                                                                                                                                                                                                                                                                                                                                                                      4     1      corpus_chula    patients die die doctor says nothing detect cause went many hospitals lost lot money everywhere doctor said nothing go try talking                                                                                                                                                                                                                                                                                      patients, die, die, doctor, says, nothing, detect, cause, went, many, hospitals, lost, lot, money, everywhere, doctor, said, nothing, go, try, talking                                                                                                                                                                                                                        -1       fn       \n",
       "109  คุณหมอเข้าของไข้ผ่าตัดดี แต่นศพ ดึงสายเลือดออก จึงต้องทำให้ผ่ารอบสอง ต้องโทรหาอาจารย์ตลอดการผ่า รอดตายมาได้ จนทำให้คอเป็นถึงทุกวันนี้ คอยึด คอตึง กลืนยาเม็ดใหญ่ไม่ได้ พยาบาลแผนกคอนิสัยน่ารักแต่แผนงรังสี หมอดีค่ะ ให้คำปรึกษาดี ทุกอย่างโอเคหมด แย่ตรงผ่าคอรอบสองครั้งนั้นค่ะ จนเป็นปีแล้ว คอก็ไม่ดีขึ้นค่ะ                                                                                                                The doctor entered the surgical fever well, but the body pulled out the blood line. Therefore having to make a second round Had to call the teacher throughout the operation to survive until the neck is today The nurse in the neck department is cute, but the radiation plan is good. Everything is ok. Poor in the neck, around that time, until a year, then the neck is not better.                                                                                                                                                                                                                      1     -1     corpus_siriraj  doctor entered surgical fever well body pulled blood line therefore make second round call teacher throughout operation survive neck today nurse neck department cute radiation plan good everything ok poor neck around time year neck better                                                                                                                                                                          doctor, entered, surgical, fever, well, body, blood, line, therefore, make, second, call, teacher, throughout, survive, neck, today, nurse, neck, department, cute, radiation, plan, good, everything, ok, poor, neck, around, time, year, neck, better                                                                                                                        1       fp       "
      ]
     },
     "execution_count": 17,
     "metadata": {},
     "output_type": "execute_result"
    }
   ],
   "source": [
    "df_analyse_false.loc[([10,20,42,89,109])]"
   ]
  },
  {
   "cell_type": "markdown",
   "metadata": {},
   "source": [
    "### _3 Score is not corresponding to comment_"
   ]
  },
  {
   "cell_type": "code",
   "execution_count": 18,
   "metadata": {},
   "outputs": [
    {
     "data": {
      "text/html": [
       "<div>\n",
       "<style scoped>\n",
       "    .dataframe tbody tr th:only-of-type {\n",
       "        vertical-align: middle;\n",
       "    }\n",
       "\n",
       "    .dataframe tbody tr th {\n",
       "        vertical-align: top;\n",
       "    }\n",
       "\n",
       "    .dataframe thead th {\n",
       "        text-align: right;\n",
       "    }\n",
       "</style>\n",
       "<table border=\"1\" class=\"dataframe\">\n",
       "  <thead>\n",
       "    <tr style=\"text-align: right;\">\n",
       "      <th></th>\n",
       "      <th>comment_th</th>\n",
       "      <th>comment_eng</th>\n",
       "      <th>score</th>\n",
       "      <th>y_test</th>\n",
       "      <th>hospital</th>\n",
       "      <th>cleaned_text</th>\n",
       "      <th>word_feed</th>\n",
       "      <th>y_pred</th>\n",
       "      <th>false_type</th>\n",
       "    </tr>\n",
       "  </thead>\n",
       "  <tbody>\n",
       "    <tr>\n",
       "      <th>68</th>\n",
       "      <td>พยาบาลพูดจาไม่ค่อยจะดีเท่าไหร่ ไม่รุ้จักว่าใครคือคนที่จะเคารพหรือไม่ คนแก่ชราก้อด่าเค้าเกินไป</td>\n",
       "      <td>The nurse spoke very poorly. Do not know who is the person who will respect or not Old people scold him too</td>\n",
       "      <td>5</td>\n",
       "      <td>1</td>\n",
       "      <td>corpus_rama</td>\n",
       "      <td>nurse spoke poorly know person respect old people scold</td>\n",
       "      <td>nurse, spoke, poorly, know, person, old, people</td>\n",
       "      <td>-1</td>\n",
       "      <td>fn</td>\n",
       "    </tr>\n",
       "  </tbody>\n",
       "</table>\n",
       "</div>"
      ],
      "text/plain": [
       "                                                                                       comment_th                                                                                                  comment_eng score y_test     hospital                                             cleaned_text                                        word_feed  y_pred false_type\n",
       "68  พยาบาลพูดจาไม่ค่อยจะดีเท่าไหร่ ไม่รุ้จักว่าใครคือคนที่จะเคารพหรือไม่ คนแก่ชราก้อด่าเค้าเกินไป  The nurse spoke very poorly. Do not know who is the person who will respect or not Old people scold him too  5     1      corpus_rama  nurse spoke poorly know person respect old people scold  nurse, spoke, poorly, know, person, old, people -1       fn       "
      ]
     },
     "execution_count": 18,
     "metadata": {},
     "output_type": "execute_result"
    }
   ],
   "source": [
    "df_analyse_false.loc[([68])]"
   ]
  },
  {
   "cell_type": "code",
   "execution_count": 19,
   "metadata": {},
   "outputs": [],
   "source": [
    "# Prepare predicted y for whole dataset (use for syntactic analysis)\n",
    "y_pred_all = best_model.model.predict_classes(files['X'])\n",
    "y_prob_all = best_model.model.predict_proba(files['X'])\n",
    "\n",
    "# Save the predicted value into numpy array\n",
    "utils.save_np(data_folder, {'y_pred_all':y_pred_all, \n",
    "                            'y_prob_all':y_prob_all})"
   ]
  },
  {
   "cell_type": "markdown",
   "metadata": {},
   "source": [
    "## __Conclusion__"
   ]
  },
  {
   "cell_type": "markdown",
   "metadata": {},
   "source": [
    "&emsp;&emsp; The optimum model for text classification consists of one embedding with 100 outputs, one of 0.5 dropout layer, 64 filters of one (1x3) convolution, one global max pooling, 10 nodes of one fully-connected, and end up with Adam optimzer using 0.0005 of learning rate. In addition, trending lines of accuracy and loss of validation dataset during learning are conformed to those training dataset, but the model might be overfitting to training datase compared to the validation dataset.\n",
    "<br>\n",
    "&emsp;&emsp; However, the result of model performance evaluation shows that the model can accurately discriminate between positive and negative class with 84.43%. It also has 95.65% to correctly predict the positive class. As a result of error analysis, there are 3 important problems caused false prediction such as incorrect translation, ambiguous sentences, and non-relational between comment and scoring."
   ]
  },
  {
   "cell_type": "code",
   "execution_count": null,
   "metadata": {},
   "outputs": [],
   "source": []
  }
 ],
 "metadata": {
  "kernelspec": {
   "display_name": "Python 3",
   "language": "python",
   "name": "python3"
  },
  "language_info": {
   "codemirror_mode": {
    "name": "ipython",
    "version": 3
   },
   "file_extension": ".py",
   "mimetype": "text/x-python",
   "name": "python",
   "nbconvert_exporter": "python",
   "pygments_lexer": "ipython3",
   "version": "3.6.7"
  }
 },
 "nbformat": 4,
 "nbformat_minor": 2
}
